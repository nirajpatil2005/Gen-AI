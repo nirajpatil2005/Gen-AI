{
 "cells": [
  {
   "cell_type": "code",
   "execution_count": 10,
   "id": "b5b365c3",
   "metadata": {},
   "outputs": [],
   "source": [
    "from langchain.text_splitter import CharacterTextSplitter\n",
    "from langchain_community.document_loaders import PyPDFLoader"
   ]
  },
  {
   "cell_type": "code",
   "execution_count": null,
   "id": "7ef7b934",
   "metadata": {},
   "outputs": [],
   "source": [
    "text=\"\"\"\n",
    "Kohli was born on 5 November 1988 in Delhi into a Punjabi Hindu family. His mother Saroj Kohli is as a housewife while his father Prem Nath Kohli worked as a criminal lawyer. He has an elder brother Vikas and an elder sister Bhawna. His formative years were spent in Uttam Nagar. His early education was at Vishal Bharti Public School.[4] As per his family, Kohli exhibited an early affinity for cricket as a 3-year-old. He would pick up a bat and request his father bowl to him.[5] In 1998, the West Delhi Cricket Academy was created. In May, his father arranged for him to meet Rajkumar Sharma.[6] Upon the suggestion of their neighbours, Kohli's father considered enrolling his son in a professional cricket academy, as they believed his ability merited more than gully cricket.[7] He was unable to secure a place in the U-14 Delhi team, due to extraneous factors. His father reportedly received offers to relocate his son to influential clubs, which would ensure his selection, but he declined the proposals. Kohli eventually found his way into the U-15 team.[8] He received training at the academy and participated in matches at the Sumeet Dogra Academy located at Vasundhara Enclave.[9] In pursuit of furthering his cricketing career, he transferred to Saviour Convent School during his ninth-grade education.[7] On 18 December 2006, his father died due to a cerebral attack.[10] As per his mother, Kohli's demeanour shifted noticeably after his father's death. He took on cricket with newfound seriousness, prioritizing playing time and dedicating himself fully to the sport.[7] Kohli's family resided in Meera Bagh, Paschim Vihar until the year 2015, after which they relocated to Gurgaon\n",
    "\"\"\""
   ]
  },
  {
   "cell_type": "code",
   "execution_count": null,
   "id": "ac10bbd5",
   "metadata": {},
   "outputs": [],
   "source": [
    "from langchain_text_splitters import CharacterTextSplitter\n",
    "splitter=CharacterTextSplitter(\n",
    "    chunk_size=40,\n",
    "    chunk_overlap=0,\n",
    "    separator=''\n",
    ")"
   ]
  },
  {
   "cell_type": "code",
   "execution_count": 15,
   "id": "135b14d6",
   "metadata": {},
   "outputs": [],
   "source": [
    "result=splitter.split_text(text)"
   ]
  },
  {
   "cell_type": "code",
   "execution_count": 8,
   "id": "c0b03281",
   "metadata": {},
   "outputs": [
    {
     "name": "stdout",
     "output_type": "stream",
     "text": [
      "['Kohli was born on 5 November 1988 in De', 'lhi into a Punjabi Hindu family. His mot', 'her Saroj Kohli is as a housewife while', 'his father Prem Nath Kohli worked as a c', 'riminal lawyer. He has an elder brother', 'Vikas and an elder sister Bhawna. His fo', 'rmative years were spent in Uttam Nagar.', 'His early education was at Vishal Bhart', 'i Public School.[4] As per his family, K', 'ohli exhibited an early affinity for cri', 'cket as a 3-year-old. He would pick up a', 'bat and request his father bowl to him.', '[5] In 1998, the West Delhi Cricket Acad', 'emy was created. In May, his father arra', 'nged for him to meet Rajkumar Sharma.[6]', 'Upon the suggestion of their neighbours', \", Kohli's father considered enrolling hi\", 's son in a professional cricket academy,', 'as they believed his ability merited mo', 're than gully cricket.[7] He was unable', 'to secure a place in the U-14 Delhi team', ', due to extraneous factors. His father', 'reportedly received offers to relocate h', 'is son to influential clubs, which would', 'ensure his selection, but he declined t', 'he proposals. Kohli eventually found his', 'way into the U-15 team.[8] He received', 'training at the academy and participated', 'in matches at the Sumeet Dogra Academy', 'located at Vasundhara Enclave.[9] In pur', 'suit of furthering his cricketing career', ', he transferred to Saviour Convent Scho', 'ol during his ninth-grade education.[7]', 'On 18 December 2006, his father died due', 'to a cerebral attack.[10] As per his mo', \"ther, Kohli's demeanour shifted noticeab\", \"ly after his father's death. He took on\", 'cricket with newfound seriousness, prior', 'itizing playing time and dedicating hims', \"elf fully to the sport.[7] Kohli's famil\", 'y resided in Meera Bagh, Paschim Vihar u', 'ntil the year 2015, after which they rel', 'ocated to Gurgaon']\n"
     ]
    }
   ],
   "source": [
    "print(result)"
   ]
  },
  {
   "cell_type": "code",
   "execution_count": 18,
   "id": "96261a82",
   "metadata": {},
   "outputs": [
    {
     "name": "stderr",
     "output_type": "stream",
     "text": [
      "<>:1: SyntaxWarning: invalid escape sequence '\\G'\n",
      "<>:1: SyntaxWarning: invalid escape sequence '\\G'\n",
      "C:\\Users\\niraj\\AppData\\Local\\Temp\\ipykernel_7944\\3049589510.py:1: SyntaxWarning: invalid escape sequence '\\G'\n",
      "  loader=PyPDFLoader('D:\\\\ML\\Gen AI\\\\RAG\\\\Document Loaders\\\\story.pdf')\n"
     ]
    }
   ],
   "source": [
    "loader=PyPDFLoader('D:\\\\ML\\Gen AI\\\\RAG\\\\Document Loaders\\\\story.pdf')"
   ]
  },
  {
   "cell_type": "code",
   "execution_count": 19,
   "id": "6e48215d",
   "metadata": {},
   "outputs": [],
   "source": [
    "docs=loader.load()"
   ]
  },
  {
   "cell_type": "code",
   "execution_count": 20,
   "id": "31df25f2",
   "metadata": {},
   "outputs": [],
   "source": [
    "result1=splitter.split_documents(docs)"
   ]
  },
  {
   "cell_type": "code",
   "execution_count": 26,
   "id": "937ae33b",
   "metadata": {},
   "outputs": [
    {
     "name": "stdout",
     "output_type": "stream",
     "text": [
      "1/I SELL MY DREAMS\n",
      "Short stories\n",
      "INTRODU\n"
     ]
    }
   ],
   "source": [
    "print(result1[0].page_content)"
   ]
  },
  {
   "cell_type": "code",
   "execution_count": 25,
   "id": "0ac3c281",
   "metadata": {},
   "outputs": [
    {
     "name": "stdout",
     "output_type": "stream",
     "text": [
      "CTION\n",
      "A short story is a prose narrative\n"
     ]
    }
   ],
   "source": [
    "print(result1[1].page_content)"
   ]
  },
  {
   "cell_type": "markdown",
   "id": "1b192194",
   "metadata": {},
   "source": [
    "Chunk overlap"
   ]
  },
  {
   "cell_type": "code",
   "execution_count": 27,
   "id": "6a19e14f",
   "metadata": {},
   "outputs": [],
   "source": [
    "from langchain_text_splitters import CharacterTextSplitter\n",
    "splitter=CharacterTextSplitter(\n",
    "    chunk_size=40,\n",
    "    chunk_overlap=5,\n",
    "    separator=''\n",
    ")"
   ]
  },
  {
   "cell_type": "code",
   "execution_count": 28,
   "id": "c06fd609",
   "metadata": {},
   "outputs": [
    {
     "name": "stdout",
     "output_type": "stream",
     "text": [
      "1/I SELL MY DREAMS\n",
      "Short stories\n",
      "INTRODU\n"
     ]
    }
   ],
   "source": [
    "docs=loader.load()\n",
    "result1=splitter.split_documents(docs)\n",
    "print(result1[0].page_content)"
   ]
  },
  {
   "cell_type": "code",
   "execution_count": 29,
   "id": "2fd919c9",
   "metadata": {},
   "outputs": [
    {
     "name": "stdout",
     "output_type": "stream",
     "text": [
      "TRODUCTION\n",
      "A short story is a prose narr\n"
     ]
    }
   ],
   "source": [
    "print(result1[1].page_content)"
   ]
  },
  {
   "cell_type": "markdown",
   "id": "85f74d4a",
   "metadata": {},
   "source": [
    "Recursive Text-Structured based"
   ]
  },
  {
   "cell_type": "code",
   "execution_count": 30,
   "id": "ecda7db3",
   "metadata": {},
   "outputs": [],
   "source": [
    "from langchain.text_splitter import RecursiveCharacterTextSplitter"
   ]
  },
  {
   "cell_type": "code",
   "execution_count": 31,
   "id": "50dafd49",
   "metadata": {},
   "outputs": [],
   "source": [
    "text=\"\"\"Kohli's junior cricket career kicked off in October 2002 at the Luhnu Cricket Ground against Himachal Pradesh. His first half-century in domestic cricket happened at Feroze Shah Kotla, where he scored 70 runs against Haryana.[12] By the end of the season, he had amassed a total of 172 runs, emerging as the highest run-scorer for his side with an average of 34.40.[13] During the 2003–04 season of Polly Umrigar Trophy, Kohli was appointed the captain of the U-15 team.[13] He scored 54 runs in Delhi's victory over Himachal Pradesh. In the next fixture against Jammu and Kashmir, Kohli scored his maiden century with a score of 119. By the end of the season, he had a total of 390 runs at an average of 78, which included two centuries.[14] Towards the end of 2004, Kohli earned selection for the 2004–05 Vijay Merchant Trophy with the Delhi U-17 team.[13] In the four matches that he played, Kohli had a total of 470 runs, with his highest score being 251* runs. The team's coach, Ajit Chaudhary, lauded his performance and was particularly impressed with his temperament on the field.[15] He commenced the 2005–06 season with a score of 227 against Punjab. Following their victory over Uttar Pradesh in the quarter-finals, Delhi was scheduled to play against Baroda in the semi-finals. The team had high expectations from Kohli, who had promised his coach to finish the job. True to his word, Kohli went on to score 228 runs, leading Delhi to victory. The team later secured the tournament with a five-wicket win over Mumbai, where he contributed with a half-century in the first innings.[16] He ended as the highest run-scorer with a total of 757 runs from 7 matches, averaging 84.11.[17]\n",
    "\n",
    "On 18 February 2006, Kohli made his debut in List A cricket, playing against Services in the Ranji One-Day Trophy, but he did not get the opportunity to bat during the match.[17] In 2006, Kohli got a spot in the state senior team. Subsequently, he made his first-class debut on 23 November 2006, during the opening match of the Ranji Trophy season against Tamil Nadu. However, his debut innings was a brief one, as he was dismissed after scoring ten runs.[18] In the subsequent match against former champions, Karnataka, Delhi found themselves trailing with a score of 130/5, with Kohli remaining unbeaten on 40 at the end of the day's play. That night, Kohli's father died. Despite the heart-wrenching news, Kohli returned to the match and continued to bat and scored 90 runs before he was dismissed.[19] Chetan Chauhan, the coach, was impressed by his determination and unwavering attitude in the face of adversity. Venkatesh Prasad lauded his crucial knock, which was executed in the midst of an emotional upheaval. After his dismissal, Kohli attended his father's funeral. His innings proved to be crucial for Delhi as they were able to avoid the follow-on. The team's captain, Mithun Manhas, praised Kohli for his performance, acknowledging its pivotal role in the team's success.[20]\n",
    "\n",
    "Kohli's foray into T20 cricket first happened in April 2007, during the Inter-State T20 Championship, where he emerged as the top run-getter for his team with a tally of 179 runs at an average of 35.80.[21] In Sep 2008, Kohli played in Nissar Trophy against SNGPL. He emerged as the leading scorer for Delhi in both innings, registering 52 runs in the first innings and a towering 197 in the second. The match ultimately ended in a draw, SNGPL being declared the victors due to their lead in first innings.[22] In the 2009–10 Ranji Trophy season, Kohli returned to domestic cricket. During a match against Maharashtra, he opened the batting and scored 67 runs, helping Delhi to secure the bonus point required for victory.[23] Kohli's performance reinvigorated the competitive spirit of the domestic cricket circuit.\n",
    "\n",
    "I did not see him waste his time. If not on the field, he would be busy in the gym. I saw him first as a chubby-cheeked bubbly young kid who grew into a perfect athlete. His junior cricket lessons have obviously helped him. I did not know him well, but had heard a lot about his exploits in junior cricket.\n",
    "\n",
    "— Ashish Nehra, [24]\n",
    "India U19 team\n",
    "In July 2006, Kohli was selected in the India Under-19 squad on its tour of England. He averaged 105 in the three-match ODI series against England Under-19s, while also averaging 49 in the 3-match Test series. Following India U-19 success in both the ODI and Test series, the team's coach Lalchand Rajput noted Kohli's adeptness in facing both pace and spin bowling and expressed his admiration for his technical prowess.[25][26] In September, the U-19 team toured Pakistan. In the first Test match, Kohli scored 63 and 28 as India won by 271 runs against Pakistan Under-19s. In the 2nd match, he contributed 83 runs to India's victory by 240 runs and an innings. He concluded the tour with 80 runs in the final ODI game at Lahore.[27] In early 2007, Kohli was a part of the India U-19 team that toured New Zealand, where he scored 113 in the first Test match. The series ended in a draw. In the following month, the team travelled to Malaysia for a tri-series against England Under-19s and Sri Lanka Under-19s, where Kohli did not get many opportunities to bat. In July–August, India U-19 embarked on a tour for a tri-series against Sri Lanka Under-19s and Bangladesh Under-19s, where he did not score a half-century in any of the matches. He made a comeback with scores of 144 and an unbeaten 94 in the following Test series.[28]\n",
    "\n",
    "Kohli came into the limelight in 2008 when he led the team to victory in the U-19 World Cup. He led the Indian squad and won the 2008 U-19 World Cup held in Malaysia.[29] He amassed 235 runs at an average of 47, ranking as the tournament's third-highest scorer and one of three cricketers to compile a century.[30] His century, a knock of 100 runs off 74 balls, versus the West Indies Under-19s in a group stage encounter, was lauded by ESPNcricinfo, as \"the innings of the tournament.\" This innings paved the way for India's 50-run triumph and fetched Kohli the man of the match award.[31] Additionally, Kohli's all-round performance in the semi-final against New Zealand Under-19s, where he captured 2 wickets and contributed 43 runs in the run-chase, was core to India's victory.[32] In the championship match, Kohli managed a score of 19 against South Africa Under-19s and his contribution lead to the eventual 12-run win (via D/L method).[33]\n",
    "\n",
    "In June 2008, Kohli and his U-19 teammates Pradeep Sangwan and Tanmay Srivastava were awarded the Border–Gavaskar scholarship. This scholarship, aimed at honing the skills of the chosen cricketers, provided an opportunity to train for six weeks at Cricket Australia's Centre of Excellence in Brisbane.[34] In a bid to identify potential talent for the senior team, Kohli was selected to represent India Emerging Players in the Emerging Players Tournament 2008. His finest performance in the tournament was against New Zealand Emerging Players, where he played a knock of 120 runs, leading India to a seven-wicket victory.[35] With an aggregate of 204 runs, Kohli's performances did not go unnoticed by the selectors who were observing his progress. He began his international cricket journey by joining the senior team in Colombo, having played 28 Under-19 ODIs and 12 Under-19 Tests\"\"\""
   ]
  },
  {
   "cell_type": "code",
   "execution_count": 32,
   "id": "a7dc1997",
   "metadata": {},
   "outputs": [],
   "source": [
    "splitter=RecursiveCharacterTextSplitter(\n",
    "    chunk_size=300,\n",
    "    chunk_overlap=0,\n",
    ")"
   ]
  },
  {
   "cell_type": "code",
   "execution_count": 33,
   "id": "c30dbd0d",
   "metadata": {},
   "outputs": [],
   "source": [
    "chunks=splitter.split_text(text)"
   ]
  },
  {
   "cell_type": "code",
   "execution_count": 34,
   "id": "37cb4b5e",
   "metadata": {},
   "outputs": [
    {
     "name": "stdout",
     "output_type": "stream",
     "text": [
      "29\n"
     ]
    }
   ],
   "source": [
    "print(len(chunks))"
   ]
  },
  {
   "cell_type": "code",
   "execution_count": 35,
   "id": "4d23b4b3",
   "metadata": {},
   "outputs": [
    {
     "name": "stdout",
     "output_type": "stream",
     "text": [
      "[\"Kohli's junior cricket career kicked off in October 2002 at the Luhnu Cricket Ground against Himachal Pradesh. His first half-century in domestic cricket happened at Feroze Shah Kotla, where he scored 70 runs against Haryana.[12] By the end of the season, he had amassed a total of 172 runs, emerging\", \"as the highest run-scorer for his side with an average of 34.40.[13] During the 2003–04 season of Polly Umrigar Trophy, Kohli was appointed the captain of the U-15 team.[13] He scored 54 runs in Delhi's victory over Himachal Pradesh. In the next fixture against Jammu and Kashmir, Kohli scored his\", 'maiden century with a score of 119. By the end of the season, he had a total of 390 runs at an average of 78, which included two centuries.[14] Towards the end of 2004, Kohli earned selection for the 2004–05 Vijay Merchant Trophy with the Delhi U-17 team.[13] In the four matches that he played,', \"Kohli had a total of 470 runs, with his highest score being 251* runs. The team's coach, Ajit Chaudhary, lauded his performance and was particularly impressed with his temperament on the field.[15] He commenced the 2005–06 season with a score of 227 against Punjab. Following their victory over\", 'Uttar Pradesh in the quarter-finals, Delhi was scheduled to play against Baroda in the semi-finals. The team had high expectations from Kohli, who had promised his coach to finish the job. True to his word, Kohli went on to score 228 runs, leading Delhi to victory. The team later secured the', 'tournament with a five-wicket win over Mumbai, where he contributed with a half-century in the first innings.[16] He ended as the highest run-scorer with a total of 757 runs from 7 matches, averaging 84.11.[17]', 'On 18 February 2006, Kohli made his debut in List A cricket, playing against Services in the Ranji One-Day Trophy, but he did not get the opportunity to bat during the match.[17] In 2006, Kohli got a spot in the state senior team. Subsequently, he made his first-class debut on 23 November 2006,', 'during the opening match of the Ranji Trophy season against Tamil Nadu. However, his debut innings was a brief one, as he was dismissed after scoring ten runs.[18] In the subsequent match against former champions, Karnataka, Delhi found themselves trailing with a score of 130/5, with Kohli', \"remaining unbeaten on 40 at the end of the day's play. That night, Kohli's father died. Despite the heart-wrenching news, Kohli returned to the match and continued to bat and scored 90 runs before he was dismissed.[19] Chetan Chauhan, the coach, was impressed by his determination and unwavering\", \"attitude in the face of adversity. Venkatesh Prasad lauded his crucial knock, which was executed in the midst of an emotional upheaval. After his dismissal, Kohli attended his father's funeral. His innings proved to be crucial for Delhi as they were able to avoid the follow-on. The team's captain,\", \"Mithun Manhas, praised Kohli for his performance, acknowledging its pivotal role in the team's success.[20]\", \"Kohli's foray into T20 cricket first happened in April 2007, during the Inter-State T20 Championship, where he emerged as the top run-getter for his team with a tally of 179 runs at an average of 35.80.[21] In Sep 2008, Kohli played in Nissar Trophy against SNGPL. He emerged as the leading scorer\", 'for Delhi in both innings, registering 52 runs in the first innings and a towering 197 in the second. The match ultimately ended in a draw, SNGPL being declared the victors due to their lead in first innings.[22] In the 2009–10 Ranji Trophy season, Kohli returned to domestic cricket. During a match', \"against Maharashtra, he opened the batting and scored 67 runs, helping Delhi to secure the bonus point required for victory.[23] Kohli's performance reinvigorated the competitive spirit of the domestic cricket circuit.\", 'I did not see him waste his time. If not on the field, he would be busy in the gym. I saw him first as a chubby-cheeked bubbly young kid who grew into a perfect athlete. His junior cricket lessons have obviously helped him. I did not know him well, but had heard a lot about his exploits in junior', 'cricket.', '—\\u200aAshish Nehra, [24]\\nIndia U19 team', \"In July 2006, Kohli was selected in the India Under-19 squad on its tour of England. He averaged 105 in the three-match ODI series against England Under-19s, while also averaging 49 in the 3-match Test series. Following India U-19 success in both the ODI and Test series, the team's coach Lalchand\", \"Rajput noted Kohli's adeptness in facing both pace and spin bowling and expressed his admiration for his technical prowess.[25][26] In September, the U-19 team toured Pakistan. In the first Test match, Kohli scored 63 and 28 as India won by 271 runs against Pakistan Under-19s. In the 2nd match, he\", \"contributed 83 runs to India's victory by 240 runs and an innings. He concluded the tour with 80 runs in the final ODI game at Lahore.[27] In early 2007, Kohli was a part of the India U-19 team that toured New Zealand, where he scored 113 in the first Test match. The series ended in a draw. In the\", 'following month, the team travelled to Malaysia for a tri-series against England Under-19s and Sri Lanka Under-19s, where Kohli did not get many opportunities to bat. In July–August, India U-19 embarked on a tour for a tri-series against Sri Lanka Under-19s and Bangladesh Under-19s, where he did', 'not score a half-century in any of the matches. He made a comeback with scores of 144 and an unbeaten 94 in the following Test series.[28]', \"Kohli came into the limelight in 2008 when he led the team to victory in the U-19 World Cup. He led the Indian squad and won the 2008 U-19 World Cup held in Malaysia.[29] He amassed 235 runs at an average of 47, ranking as the tournament's third-highest scorer and one of three cricketers to compile\", 'a century.[30] His century, a knock of 100 runs off 74 balls, versus the West Indies Under-19s in a group stage encounter, was lauded by ESPNcricinfo, as \"the innings of the tournament.\" This innings paved the way for India\\'s 50-run triumph and fetched Kohli the man of the match award.[31]', \"Additionally, Kohli's all-round performance in the semi-final against New Zealand Under-19s, where he captured 2 wickets and contributed 43 runs in the run-chase, was core to India's victory.[32] In the championship match, Kohli managed a score of 19 against South Africa Under-19s and his\", 'contribution lead to the eventual 12-run win (via D/L method).[33]', \"In June 2008, Kohli and his U-19 teammates Pradeep Sangwan and Tanmay Srivastava were awarded the Border–Gavaskar scholarship. This scholarship, aimed at honing the skills of the chosen cricketers, provided an opportunity to train for six weeks at Cricket Australia's Centre of Excellence in\", 'Brisbane.[34] In a bid to identify potential talent for the senior team, Kohli was selected to represent India Emerging Players in the Emerging Players Tournament 2008. His finest performance in the tournament was against New Zealand Emerging Players, where he played a knock of 120 runs, leading', \"India to a seven-wicket victory.[35] With an aggregate of 204 runs, Kohli's performances did not go unnoticed by the selectors who were observing his progress. He began his international cricket journey by joining the senior team in Colombo, having played 28 Under-19 ODIs and 12 Under-19 Tests\"]\n"
     ]
    }
   ],
   "source": [
    "print(chunks)"
   ]
  },
  {
   "cell_type": "code",
   "execution_count": null,
   "id": "eae88ce7",
   "metadata": {},
   "outputs": [],
   "source": []
  },
  {
   "cell_type": "markdown",
   "id": "99c2fd15",
   "metadata": {},
   "source": [
    "Document Structured based"
   ]
  },
  {
   "cell_type": "markdown",
   "id": "09b4b0d0",
   "metadata": {},
   "source": [
    "https://chunkviz.up.railway.app/"
   ]
  },
  {
   "cell_type": "code",
   "execution_count": 38,
   "id": "6e25e7ca",
   "metadata": {},
   "outputs": [
    {
     "name": "stdout",
     "output_type": "stream",
     "text": [
      "2\n",
      "# Example usage\n",
      "student1 = Student(\"Aarav\", 20, 8.2)\n",
      "print(student1.get_details())\n",
      "\n",
      "if student1.is_passing():\n",
      "    print(\"The student is passing.\")\n",
      "else:\n",
      "    print(\"The student is not passing.\")\n"
     ]
    }
   ],
   "source": [
    "from langchain.text_splitter import RecursiveCharacterTextSplitter,Language\n",
    "\n",
    "text = \"\"\"\n",
    "class Student:\n",
    "    def __init__(self, name, age, grade):\n",
    "        self.name = name\n",
    "        self.age = age\n",
    "        self.grade = grade  # Grade is a float (like 8.5 or 9.2)\n",
    "\n",
    "    def get_details(self):\n",
    "        return self.name\"\n",
    "\n",
    "    def is_passing(self):\n",
    "        return self.grade >= 6.0\n",
    "\n",
    "\n",
    "# Example usage\n",
    "student1 = Student(\"Aarav\", 20, 8.2)\n",
    "print(student1.get_details())\n",
    "\n",
    "if student1.is_passing():\n",
    "    print(\"The student is passing.\")\n",
    "else:\n",
    "    print(\"The student is not passing.\")\n",
    "\n",
    "\"\"\"\n",
    "\n",
    "# Initialize the splitter\n",
    "splitter = RecursiveCharacterTextSplitter.from_language(\n",
    "    language=Language.PYTHON,\n",
    "    chunk_size=300,\n",
    "    chunk_overlap=0,\n",
    ")\n",
    "\n",
    "# Perform the split\n",
    "chunks = splitter.split_text(text)\n",
    "\n",
    "print(len(chunks))\n",
    "print(chunks[1])"
   ]
  },
  {
   "cell_type": "code",
   "execution_count": null,
   "id": "7154ea40",
   "metadata": {},
   "outputs": [],
   "source": []
  },
  {
   "cell_type": "markdown",
   "id": "e75f2b24",
   "metadata": {},
   "source": [
    "Semantic Meaning Based"
   ]
  },
  {
   "cell_type": "code",
   "execution_count": 39,
   "id": "2fa4dd51",
   "metadata": {},
   "outputs": [
    {
     "name": "stdout",
     "output_type": "stream",
     "text": [
      "Collecting langchain-experimental\n",
      "  Downloading langchain_experimental-0.3.4-py3-none-any.whl.metadata (1.7 kB)\n",
      "Requirement already satisfied: langchain-community<0.4.0,>=0.3.0 in c:\\users\\niraj\\anaconda3\\lib\\site-packages (from langchain-experimental) (0.3.27)\n",
      "Requirement already satisfied: langchain-core<0.4.0,>=0.3.28 in c:\\users\\niraj\\anaconda3\\lib\\site-packages (from langchain-experimental) (0.3.69)\n",
      "Requirement already satisfied: langchain<1.0.0,>=0.3.26 in c:\\users\\niraj\\anaconda3\\lib\\site-packages (from langchain-community<0.4.0,>=0.3.0->langchain-experimental) (0.3.26)\n",
      "Requirement already satisfied: SQLAlchemy<3,>=1.4 in c:\\users\\niraj\\anaconda3\\lib\\site-packages (from langchain-community<0.4.0,>=0.3.0->langchain-experimental) (2.0.34)\n",
      "Requirement already satisfied: requests<3,>=2 in c:\\users\\niraj\\anaconda3\\lib\\site-packages (from langchain-community<0.4.0,>=0.3.0->langchain-experimental) (2.32.3)\n",
      "Requirement already satisfied: PyYAML>=5.3 in c:\\users\\niraj\\anaconda3\\lib\\site-packages (from langchain-community<0.4.0,>=0.3.0->langchain-experimental) (6.0.1)\n",
      "Requirement already satisfied: aiohttp<4.0.0,>=3.8.3 in c:\\users\\niraj\\anaconda3\\lib\\site-packages (from langchain-community<0.4.0,>=0.3.0->langchain-experimental) (3.10.5)\n",
      "Requirement already satisfied: tenacity!=8.4.0,<10,>=8.1.0 in c:\\users\\niraj\\anaconda3\\lib\\site-packages (from langchain-community<0.4.0,>=0.3.0->langchain-experimental) (8.2.3)\n",
      "Requirement already satisfied: dataclasses-json<0.7,>=0.5.7 in c:\\users\\niraj\\anaconda3\\lib\\site-packages (from langchain-community<0.4.0,>=0.3.0->langchain-experimental) (0.6.7)\n",
      "Requirement already satisfied: pydantic-settings<3.0.0,>=2.4.0 in c:\\users\\niraj\\anaconda3\\lib\\site-packages (from langchain-community<0.4.0,>=0.3.0->langchain-experimental) (2.6.1)\n",
      "Requirement already satisfied: langsmith>=0.1.125 in c:\\users\\niraj\\anaconda3\\lib\\site-packages (from langchain-community<0.4.0,>=0.3.0->langchain-experimental) (0.4.8)\n",
      "Requirement already satisfied: httpx-sse<1.0.0,>=0.4.0 in c:\\users\\niraj\\anaconda3\\lib\\site-packages (from langchain-community<0.4.0,>=0.3.0->langchain-experimental) (0.4.1)\n",
      "Requirement already satisfied: numpy>=1.26.2 in c:\\users\\niraj\\anaconda3\\lib\\site-packages (from langchain-community<0.4.0,>=0.3.0->langchain-experimental) (1.26.4)\n",
      "Requirement already satisfied: aiohappyeyeballs>=2.3.0 in c:\\users\\niraj\\anaconda3\\lib\\site-packages (from aiohttp<4.0.0,>=3.8.3->langchain-community<0.4.0,>=0.3.0->langchain-experimental) (2.4.0)\n",
      "Requirement already satisfied: aiosignal>=1.1.2 in c:\\users\\niraj\\anaconda3\\lib\\site-packages (from aiohttp<4.0.0,>=3.8.3->langchain-community<0.4.0,>=0.3.0->langchain-experimental) (1.2.0)\n",
      "Requirement already satisfied: attrs>=17.3.0 in c:\\users\\niraj\\anaconda3\\lib\\site-packages (from aiohttp<4.0.0,>=3.8.3->langchain-community<0.4.0,>=0.3.0->langchain-experimental) (23.1.0)\n",
      "Requirement already satisfied: frozenlist>=1.1.1 in c:\\users\\niraj\\anaconda3\\lib\\site-packages (from aiohttp<4.0.0,>=3.8.3->langchain-community<0.4.0,>=0.3.0->langchain-experimental) (1.4.0)\n",
      "Requirement already satisfied: multidict<7.0,>=4.5 in c:\\users\\niraj\\anaconda3\\lib\\site-packages (from aiohttp<4.0.0,>=3.8.3->langchain-community<0.4.0,>=0.3.0->langchain-experimental) (6.0.4)\n",
      "Requirement already satisfied: yarl<2.0,>=1.0 in c:\\users\\niraj\\anaconda3\\lib\\site-packages (from aiohttp<4.0.0,>=3.8.3->langchain-community<0.4.0,>=0.3.0->langchain-experimental) (1.11.0)\n",
      "Requirement already satisfied: marshmallow<4.0.0,>=3.18.0 in c:\\users\\niraj\\anaconda3\\lib\\site-packages (from dataclasses-json<0.7,>=0.5.7->langchain-community<0.4.0,>=0.3.0->langchain-experimental) (3.26.1)\n",
      "Requirement already satisfied: typing-inspect<1,>=0.4.0 in c:\\users\\niraj\\anaconda3\\lib\\site-packages (from dataclasses-json<0.7,>=0.5.7->langchain-community<0.4.0,>=0.3.0->langchain-experimental) (0.9.0)\n",
      "Requirement already satisfied: langchain-text-splitters<1.0.0,>=0.3.8 in c:\\users\\niraj\\anaconda3\\lib\\site-packages (from langchain<1.0.0,>=0.3.26->langchain-community<0.4.0,>=0.3.0->langchain-experimental) (0.3.8)\n",
      "Requirement already satisfied: pydantic<3.0.0,>=2.7.4 in c:\\users\\niraj\\anaconda3\\lib\\site-packages (from langchain<1.0.0,>=0.3.26->langchain-community<0.4.0,>=0.3.0->langchain-experimental) (2.8.2)\n",
      "Requirement already satisfied: jsonpatch<2.0,>=1.33 in c:\\users\\niraj\\anaconda3\\lib\\site-packages (from langchain-core<0.4.0,>=0.3.28->langchain-experimental) (1.33)\n",
      "Requirement already satisfied: typing-extensions>=4.7 in c:\\users\\niraj\\anaconda3\\lib\\site-packages (from langchain-core<0.4.0,>=0.3.28->langchain-experimental) (4.14.1)\n",
      "Requirement already satisfied: packaging>=23.2 in c:\\users\\niraj\\anaconda3\\lib\\site-packages (from langchain-core<0.4.0,>=0.3.28->langchain-experimental) (24.1)\n",
      "Requirement already satisfied: jsonpointer>=1.9 in c:\\users\\niraj\\anaconda3\\lib\\site-packages (from jsonpatch<2.0,>=1.33->langchain-core<0.4.0,>=0.3.28->langchain-experimental) (2.1)\n",
      "Requirement already satisfied: annotated-types>=0.4.0 in c:\\users\\niraj\\anaconda3\\lib\\site-packages (from pydantic<3.0.0,>=2.7.4->langchain<1.0.0,>=0.3.26->langchain-community<0.4.0,>=0.3.0->langchain-experimental) (0.6.0)\n",
      "Requirement already satisfied: pydantic-core==2.20.1 in c:\\users\\niraj\\anaconda3\\lib\\site-packages (from pydantic<3.0.0,>=2.7.4->langchain<1.0.0,>=0.3.26->langchain-community<0.4.0,>=0.3.0->langchain-experimental) (2.20.1)\n",
      "Requirement already satisfied: python-dotenv>=0.21.0 in c:\\users\\niraj\\anaconda3\\lib\\site-packages (from pydantic-settings<3.0.0,>=2.4.0->langchain-community<0.4.0,>=0.3.0->langchain-experimental) (0.21.0)\n",
      "Requirement already satisfied: charset-normalizer<4,>=2 in c:\\users\\niraj\\anaconda3\\lib\\site-packages (from requests<3,>=2->langchain-community<0.4.0,>=0.3.0->langchain-experimental) (3.3.2)\n",
      "Requirement already satisfied: idna<4,>=2.5 in c:\\users\\niraj\\anaconda3\\lib\\site-packages (from requests<3,>=2->langchain-community<0.4.0,>=0.3.0->langchain-experimental) (3.7)\n",
      "Requirement already satisfied: urllib3<3,>=1.21.1 in c:\\users\\niraj\\anaconda3\\lib\\site-packages (from requests<3,>=2->langchain-community<0.4.0,>=0.3.0->langchain-experimental) (2.2.3)\n",
      "Requirement already satisfied: certifi>=2017.4.17 in c:\\users\\niraj\\anaconda3\\lib\\site-packages (from requests<3,>=2->langchain-community<0.4.0,>=0.3.0->langchain-experimental) (2025.7.14)\n",
      "Requirement already satisfied: greenlet!=0.4.17 in c:\\users\\niraj\\anaconda3\\lib\\site-packages (from SQLAlchemy<3,>=1.4->langchain-community<0.4.0,>=0.3.0->langchain-experimental) (3.0.1)\n",
      "Requirement already satisfied: mypy-extensions>=0.3.0 in c:\\users\\niraj\\anaconda3\\lib\\site-packages (from typing-inspect<1,>=0.4.0->dataclasses-json<0.7,>=0.5.7->langchain-community<0.4.0,>=0.3.0->langchain-experimental) (1.0.0)\n",
      "Requirement already satisfied: httpx<1,>=0.23.0 in c:\\users\\niraj\\anaconda3\\lib\\site-packages (from langsmith>=0.1.125->langchain-community<0.4.0,>=0.3.0->langchain-experimental) (0.27.0)\n",
      "Requirement already satisfied: orjson<4.0.0,>=3.9.14 in c:\\users\\niraj\\anaconda3\\lib\\site-packages (from langsmith>=0.1.125->langchain-community<0.4.0,>=0.3.0->langchain-experimental) (3.11.0)\n",
      "Requirement already satisfied: requests-toolbelt<2.0.0,>=1.0.0 in c:\\users\\niraj\\anaconda3\\lib\\site-packages (from langsmith>=0.1.125->langchain-community<0.4.0,>=0.3.0->langchain-experimental) (1.0.0)\n",
      "Requirement already satisfied: zstandard<0.24.0,>=0.23.0 in c:\\users\\niraj\\anaconda3\\lib\\site-packages (from langsmith>=0.1.125->langchain-community<0.4.0,>=0.3.0->langchain-experimental) (0.23.0)\n",
      "Requirement already satisfied: anyio in c:\\users\\niraj\\anaconda3\\lib\\site-packages (from httpx<1,>=0.23.0->langsmith>=0.1.125->langchain-community<0.4.0,>=0.3.0->langchain-experimental) (4.2.0)\n",
      "Requirement already satisfied: httpcore==1.* in c:\\users\\niraj\\anaconda3\\lib\\site-packages (from httpx<1,>=0.23.0->langsmith>=0.1.125->langchain-community<0.4.0,>=0.3.0->langchain-experimental) (1.0.2)\n",
      "Requirement already satisfied: sniffio in c:\\users\\niraj\\anaconda3\\lib\\site-packages (from httpx<1,>=0.23.0->langsmith>=0.1.125->langchain-community<0.4.0,>=0.3.0->langchain-experimental) (1.3.0)\n",
      "Requirement already satisfied: h11<0.15,>=0.13 in c:\\users\\niraj\\anaconda3\\lib\\site-packages (from httpcore==1.*->httpx<1,>=0.23.0->langsmith>=0.1.125->langchain-community<0.4.0,>=0.3.0->langchain-experimental) (0.14.0)\n",
      "Downloading langchain_experimental-0.3.4-py3-none-any.whl (209 kB)\n",
      "Installing collected packages: langchain-experimental\n",
      "Successfully installed langchain-experimental-0.3.4\n",
      "Note: you may need to restart the kernel to use updated packages.\n"
     ]
    }
   ],
   "source": [
    "pip install langchain-experimental"
   ]
  },
  {
   "cell_type": "code",
   "execution_count": 43,
   "id": "20dea9b2",
   "metadata": {},
   "outputs": [
    {
     "name": "stdout",
     "output_type": "stream",
     "text": [
      "Collecting sentence-transformers\n",
      "  Downloading sentence_transformers-5.0.0-py3-none-any.whl.metadata (16 kB)\n",
      "Requirement already satisfied: transformers<5.0.0,>=4.41.0 in c:\\users\\niraj\\anaconda3\\lib\\site-packages (from sentence-transformers) (4.53.2)\n",
      "Requirement already satisfied: tqdm in c:\\users\\niraj\\anaconda3\\lib\\site-packages (from sentence-transformers) (4.66.5)\n",
      "Requirement already satisfied: torch>=1.11.0 in c:\\users\\niraj\\anaconda3\\lib\\site-packages (from sentence-transformers) (2.7.1)\n",
      "Requirement already satisfied: scikit-learn in c:\\users\\niraj\\anaconda3\\lib\\site-packages (from sentence-transformers) (1.5.1)\n",
      "Requirement already satisfied: scipy in c:\\users\\niraj\\anaconda3\\lib\\site-packages (from sentence-transformers) (1.13.1)\n",
      "Requirement already satisfied: huggingface-hub>=0.20.0 in c:\\users\\niraj\\anaconda3\\lib\\site-packages (from sentence-transformers) (0.33.4)\n",
      "Requirement already satisfied: Pillow in c:\\users\\niraj\\anaconda3\\lib\\site-packages (from sentence-transformers) (10.4.0)\n",
      "Requirement already satisfied: typing_extensions>=4.5.0 in c:\\users\\niraj\\anaconda3\\lib\\site-packages (from sentence-transformers) (4.14.1)\n",
      "Requirement already satisfied: filelock in c:\\users\\niraj\\anaconda3\\lib\\site-packages (from transformers<5.0.0,>=4.41.0->sentence-transformers) (3.13.1)\n",
      "Requirement already satisfied: numpy>=1.17 in c:\\users\\niraj\\anaconda3\\lib\\site-packages (from transformers<5.0.0,>=4.41.0->sentence-transformers) (1.26.4)\n",
      "Requirement already satisfied: packaging>=20.0 in c:\\users\\niraj\\anaconda3\\lib\\site-packages (from transformers<5.0.0,>=4.41.0->sentence-transformers) (24.1)\n",
      "Requirement already satisfied: pyyaml>=5.1 in c:\\users\\niraj\\anaconda3\\lib\\site-packages (from transformers<5.0.0,>=4.41.0->sentence-transformers) (6.0.1)\n",
      "Requirement already satisfied: regex!=2019.12.17 in c:\\users\\niraj\\anaconda3\\lib\\site-packages (from transformers<5.0.0,>=4.41.0->sentence-transformers) (2024.9.11)\n",
      "Requirement already satisfied: requests in c:\\users\\niraj\\anaconda3\\lib\\site-packages (from transformers<5.0.0,>=4.41.0->sentence-transformers) (2.32.3)\n",
      "Requirement already satisfied: tokenizers<0.22,>=0.21 in c:\\users\\niraj\\anaconda3\\lib\\site-packages (from transformers<5.0.0,>=4.41.0->sentence-transformers) (0.21.2)\n",
      "Requirement already satisfied: safetensors>=0.4.3 in c:\\users\\niraj\\anaconda3\\lib\\site-packages (from transformers<5.0.0,>=4.41.0->sentence-transformers) (0.5.3)\n",
      "Requirement already satisfied: fsspec>=2023.5.0 in c:\\users\\niraj\\anaconda3\\lib\\site-packages (from huggingface-hub>=0.20.0->sentence-transformers) (2024.6.1)\n",
      "Requirement already satisfied: sympy>=1.13.3 in c:\\users\\niraj\\anaconda3\\lib\\site-packages (from torch>=1.11.0->sentence-transformers) (1.14.0)\n",
      "Requirement already satisfied: networkx in c:\\users\\niraj\\anaconda3\\lib\\site-packages (from torch>=1.11.0->sentence-transformers) (3.3)\n",
      "Requirement already satisfied: jinja2 in c:\\users\\niraj\\anaconda3\\lib\\site-packages (from torch>=1.11.0->sentence-transformers) (3.1.4)\n",
      "Requirement already satisfied: setuptools in c:\\users\\niraj\\anaconda3\\lib\\site-packages (from torch>=1.11.0->sentence-transformers) (75.1.0)\n",
      "Requirement already satisfied: mpmath<1.4,>=1.1.0 in c:\\users\\niraj\\anaconda3\\lib\\site-packages (from sympy>=1.13.3->torch>=1.11.0->sentence-transformers) (1.3.0)\n",
      "Requirement already satisfied: colorama in c:\\users\\niraj\\anaconda3\\lib\\site-packages (from tqdm->sentence-transformers) (0.4.6)\n",
      "Requirement already satisfied: MarkupSafe>=2.0 in c:\\users\\niraj\\anaconda3\\lib\\site-packages (from jinja2->torch>=1.11.0->sentence-transformers) (2.1.3)\n",
      "Requirement already satisfied: charset-normalizer<4,>=2 in c:\\users\\niraj\\anaconda3\\lib\\site-packages (from requests->transformers<5.0.0,>=4.41.0->sentence-transformers) (3.3.2)\n",
      "Requirement already satisfied: idna<4,>=2.5 in c:\\users\\niraj\\anaconda3\\lib\\site-packages (from requests->transformers<5.0.0,>=4.41.0->sentence-transformers) (3.7)\n",
      "Requirement already satisfied: urllib3<3,>=1.21.1 in c:\\users\\niraj\\anaconda3\\lib\\site-packages (from requests->transformers<5.0.0,>=4.41.0->sentence-transformers) (2.2.3)\n",
      "Requirement already satisfied: certifi>=2017.4.17 in c:\\users\\niraj\\anaconda3\\lib\\site-packages (from requests->transformers<5.0.0,>=4.41.0->sentence-transformers) (2025.7.14)\n",
      "Requirement already satisfied: joblib>=1.2.0 in c:\\users\\niraj\\anaconda3\\lib\\site-packages (from scikit-learn->sentence-transformers) (1.5.1)\n",
      "Requirement already satisfied: threadpoolctl>=3.1.0 in c:\\users\\niraj\\anaconda3\\lib\\site-packages (from scikit-learn->sentence-transformers) (3.5.0)\n",
      "Downloading sentence_transformers-5.0.0-py3-none-any.whl (470 kB)\n",
      "Installing collected packages: sentence-transformers\n",
      "Successfully installed sentence-transformers-5.0.0\n",
      "Note: you may need to restart the kernel to use updated packages.\n"
     ]
    }
   ],
   "source": [
    "pip install sentence-transformers"
   ]
  },
  {
   "cell_type": "code",
   "execution_count": null,
   "id": "4c880fec",
   "metadata": {},
   "outputs": [],
   "source": [
    "from langchain_experimental.text_splitter import SemanticChunker\n",
    "from langchain_experimental.text_splitter import SemanticChunker\n",
    "from langchain_community.embeddings import HuggingFaceEmbeddings\n",
    "from langchain_huggingface import HuggingFaceEmbeddings\n",
    "\n",
    "# Use free local embeddings\n",
    "embeddings = HuggingFaceEmbeddings(model_name=\"all-MiniLM-L6-v2\")\n",
    "\n",
    "text_splitter = SemanticChunker(\n",
    "    embeddings, \n",
    "    breakpoint_threshold_type=\"standard_deviation\",\n",
    "    breakpoint_threshold_amount=3\n",
    ")\n",
    "sample = \"\"\"\n",
    "Farmers were working hard in the fields, preparing the soil and planting seeds for the next season. The sun was bright, and the air smelled of earth and fresh grass. The Indian Premier League (IPL) is the biggest cricket league in the world. People all over the world watch the matches and cheer for their favourite teams.\n",
    "\n",
    "\n",
    "Terrorism is a big danger to peace and safety. It causes harm to people and creates fear in cities and villages. When such attacks happen, they leave behind pain and sadness. To fight terrorism, we need strong laws, alert security forces, and support from people who care about peace and safety.\n",
    "\"\"\"\n",
    "\n",
    "docs = text_splitter.create_documents([sample])\n",
    "print(len(docs))\n",
    "print(docs)\n"
   ]
  },
  {
   "cell_type": "code",
   "execution_count": null,
   "id": "a37f3902",
   "metadata": {},
   "outputs": [],
   "source": []
  },
  {
   "cell_type": "code",
   "execution_count": null,
   "id": "2be75463",
   "metadata": {},
   "outputs": [],
   "source": []
  }
 ],
 "metadata": {
  "kernelspec": {
   "display_name": "base",
   "language": "python",
   "name": "python3"
  },
  "language_info": {
   "codemirror_mode": {
    "name": "ipython",
    "version": 3
   },
   "file_extension": ".py",
   "mimetype": "text/x-python",
   "name": "python",
   "nbconvert_exporter": "python",
   "pygments_lexer": "ipython3",
   "version": "3.12.7"
  }
 },
 "nbformat": 4,
 "nbformat_minor": 5
}
