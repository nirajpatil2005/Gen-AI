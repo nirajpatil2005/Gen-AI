{
  "nbformat": 4,
  "nbformat_minor": 0,
  "metadata": {
    "colab": {
      "provenance": []
    },
    "kernelspec": {
      "name": "python3",
      "display_name": "Python 3"
    },
    "language_info": {
      "name": "python"
    }
  },
  "cells": [
    {
      "cell_type": "code",
      "execution_count": 72,
      "metadata": {
        "id": "hQhho8RpS_pm"
      },
      "outputs": [],
      "source": [
        "!pip install -q langchain_groq langchain-core requests dotenv"
      ]
    },
    {
      "cell_type": "code",
      "source": [
        "from langchain_groq import ChatGroq\n",
        "import os\n",
        "from dotenv import load_dotenv\n",
        "load_dotenv()\n",
        "groq_token = os.getenv(\"test_groq\")\n",
        "llm = ChatGroq(\n",
        "    groq_api_key=groq_token,\n",
        "    model_name=\"meta-llama/llama-4-scout-17b-16e-instruct\"\n",
        ")\n",
        "\n",
        "# Use llm directly - no need for ChatHuggingFace wrapper\n",
        "response = llm.invoke(\"hi\")\n",
        "print(response)"
      ],
      "metadata": {
        "colab": {
          "base_uri": "https://localhost:8080/"
        },
        "id": "ua964-ckTUrD",
        "outputId": "caa59ddf-9906-4a00-ef06-7dea53297e83"
      },
      "execution_count": 73,
      "outputs": [
        {
          "output_type": "stream",
          "name": "stdout",
          "text": [
            "content=\"Hello! How can I assist you today? Do you have a specific question, topic you'd like to discuss, or perhaps need help with something? I'm here to help!\" additional_kwargs={} response_metadata={'token_usage': {'completion_tokens': 35, 'prompt_tokens': 11, 'total_tokens': 46, 'completion_time': 0.091561476, 'prompt_time': 0.002881411, 'queue_time': 0.28216281, 'total_time': 0.094442887}, 'model_name': 'meta-llama/llama-4-scout-17b-16e-instruct', 'system_fingerprint': 'fp_37da608fc1', 'service_tier': 'on_demand', 'finish_reason': 'stop', 'logprobs': None} id='run--01b3e377-6baf-4dea-9e04-27e5faa5943a-0' usage_metadata={'input_tokens': 11, 'output_tokens': 35, 'total_tokens': 46}\n"
          ]
        }
      ]
    },
    {
      "cell_type": "code",
      "source": [
        "from langchain_groq import ChatGroq\n",
        "from langchain_core.tools import tool\n",
        "from langchain_core.messages import HumanMessage\n",
        "import requests"
      ],
      "metadata": {
        "id": "DQjgoGAWTViO"
      },
      "execution_count": 74,
      "outputs": []
    },
    {
      "cell_type": "code",
      "source": [
        "from langchain_core.tools import tool, InjectedToolArg\n",
        "from pydantic import BaseModel\n",
        "from typing import Annotated\n",
        "#tool create\n",
        "\n",
        "@tool\n",
        "def get_conversion_factor(base_currency:str,target_currency:str)->float:\n",
        "  \"\"\"\n",
        "  this functiom fetches the currency conversion factor between given base currency\n",
        "  and a target currency\n",
        "  \"\"\"\n",
        "  api=os.getenv(\"exchange_factor\")\n",
        "  url = f'https://v6.exchangerate-api.com/v6/{api}/pair/{base_currency}/{target_currency}'\n",
        "\n",
        "  response=requests.get(url)\n",
        "  return response.json()\n",
        "\n",
        "@tool\n",
        "def convert(base_currency_value:int,conversion_rate:Annotated[float,InjectedToolArg])->float:\n",
        "\n",
        "  \"\"\"\n",
        "  given a currency conversion rate this function calculates the target currency\n",
        "  value\n",
        "  \"\"\"\n",
        "\n",
        "  return base_currency_value*conversion_rate\n"
      ],
      "metadata": {
        "id": "7o8p0PCaTXM5"
      },
      "execution_count": 75,
      "outputs": []
    },
    {
      "cell_type": "code",
      "source": [
        "get_conversion_factor.invoke({'base_currency':'USD','target_currency':'INR'})"
      ],
      "metadata": {
        "colab": {
          "base_uri": "https://localhost:8080/"
        },
        "id": "nAJlZdPtVLIR",
        "outputId": "d28f37ad-bbed-4cb0-9295-34c7cb71cb17"
      },
      "execution_count": 76,
      "outputs": [
        {
          "output_type": "execute_result",
          "data": {
            "text/plain": [
              "{'result': 'success',\n",
              " 'documentation': 'https://www.exchangerate-api.com/docs',\n",
              " 'terms_of_use': 'https://www.exchangerate-api.com/terms',\n",
              " 'time_last_update_unix': 1754179202,\n",
              " 'time_last_update_utc': 'Sun, 03 Aug 2025 00:00:02 +0000',\n",
              " 'time_next_update_unix': 1754265602,\n",
              " 'time_next_update_utc': 'Mon, 04 Aug 2025 00:00:02 +0000',\n",
              " 'base_code': 'USD',\n",
              " 'target_code': 'INR',\n",
              " 'conversion_rate': 87.4485}"
            ]
          },
          "metadata": {},
          "execution_count": 76
        }
      ]
    },
    {
      "cell_type": "code",
      "source": [
        "convert.invoke({'base_currency_value':10,'conversion_rate':87.4485})"
      ],
      "metadata": {
        "colab": {
          "base_uri": "https://localhost:8080/"
        },
        "id": "_eIYqNnCXDFU",
        "outputId": "c8d2ca22-48da-4d15-a089-26e769e8e89e"
      },
      "execution_count": 77,
      "outputs": [
        {
          "output_type": "execute_result",
          "data": {
            "text/plain": [
              "874.4849999999999"
            ]
          },
          "metadata": {},
          "execution_count": 77
        }
      ]
    },
    {
      "cell_type": "code",
      "source": [
        "#tool binding\n",
        "\n",
        "llm_with_tools=llm.bind_tools([get_conversion_factor,convert])"
      ],
      "metadata": {
        "id": "K9gyfxufX7eZ"
      },
      "execution_count": 78,
      "outputs": []
    },
    {
      "cell_type": "code",
      "source": [
        "#Tool calling\n",
        "\n",
        "query=HumanMessage(\"\"\"What is the conversion rate between USD and INR ,\n",
        "                      and based on that can you convert 10 USD to INR\n",
        "\n",
        "                      \"Convert 10 USD to INR. Ensure `base_currency_value` is an integer, not a string.\"\"\")\n",
        "messages=[query]"
      ],
      "metadata": {
        "id": "ZMCV2p_rYFp_"
      },
      "execution_count": 79,
      "outputs": []
    },
    {
      "cell_type": "code",
      "source": [
        "messages"
      ],
      "metadata": {
        "colab": {
          "base_uri": "https://localhost:8080/"
        },
        "id": "xDlcOwhfYhRk",
        "outputId": "c6b2eab8-f3bb-45f4-d423-c1e83fc0ee64"
      },
      "execution_count": 80,
      "outputs": [
        {
          "output_type": "execute_result",
          "data": {
            "text/plain": [
              "[HumanMessage(content='What is the conversion rate between USD and INR ,\\n                      and based on that can you convert 10 USD to INR\\n                      \\n                      \"Convert 10 USD to INR. Ensure `base_currency_value` is an integer, not a string.', additional_kwargs={}, response_metadata={})]"
            ]
          },
          "metadata": {},
          "execution_count": 80
        }
      ]
    },
    {
      "cell_type": "code",
      "source": [
        "ai_message=llm_with_tools.invoke(messages)\n",
        "ai_message\n",
        "messages.append(ai_message)"
      ],
      "metadata": {
        "id": "ldxmqD7ZYtne"
      },
      "execution_count": 81,
      "outputs": []
    },
    {
      "cell_type": "code",
      "source": [
        "ai_message.tool_calls"
      ],
      "metadata": {
        "colab": {
          "base_uri": "https://localhost:8080/"
        },
        "id": "a4tuJcViYy5f",
        "outputId": "d8767eb6-a57a-4ab2-8065-92e9b0f1d6c1"
      },
      "execution_count": 82,
      "outputs": [
        {
          "output_type": "execute_result",
          "data": {
            "text/plain": [
              "[{'name': 'get_conversion_factor',\n",
              "  'args': {'base_currency': 'USD', 'target_currency': 'INR'},\n",
              "  'id': 'hnf4rek49',\n",
              "  'type': 'tool_call'},\n",
              " {'name': 'convert',\n",
              "  'args': {'base_currency_value': 10},\n",
              "  'id': 'srjamkhrp',\n",
              "  'type': 'tool_call'}]"
            ]
          },
          "metadata": {},
          "execution_count": 82
        }
      ]
    },
    {
      "cell_type": "code",
      "source": [
        "import json"
      ],
      "metadata": {
        "id": "RoeGlqUebber"
      },
      "execution_count": 83,
      "outputs": []
    },
    {
      "cell_type": "code",
      "source": [
        "for tool_call in ai_message.tool_calls:\n",
        "  # execute the 1st tool and get the value of conversion rate\n",
        "  if tool_call['name'] == 'get_conversion_factor':\n",
        "    tool_message1 = get_conversion_factor.invoke(tool_call)\n",
        "    # fetch this conversion rate\n",
        "    conversion_rate = json.loads(tool_message1.content)['conversion_rate']\n",
        "    # append this tool message to messages list\n",
        "    messages.append(tool_message1)\n",
        "  # execute the 2nd tool using the conversion rate from tool 1\n",
        "  if tool_call['name'] == 'convert':\n",
        "    # fetch the current arg\n",
        "    tool_call['args']['conversion_rate'] = conversion_rate\n",
        "    tool_message2 = convert.invoke(tool_call)\n",
        "    messages.append(tool_message2)\n",
        "\n"
      ],
      "metadata": {
        "id": "VAWivIuKZcBP"
      },
      "execution_count": 84,
      "outputs": []
    },
    {
      "cell_type": "code",
      "source": [
        "messages"
      ],
      "metadata": {
        "colab": {
          "base_uri": "https://localhost:8080/"
        },
        "id": "15-aYM9Ra_BC",
        "outputId": "b4084a49-f5ea-4b78-e158-fc3e85277dd0"
      },
      "execution_count": 85,
      "outputs": [
        {
          "output_type": "execute_result",
          "data": {
            "text/plain": [
              "[HumanMessage(content='What is the conversion rate between USD and INR ,\\n                      and based on that can you convert 10 USD to INR\\n                      \\n                      \"Convert 10 USD to INR. Ensure `base_currency_value` is an integer, not a string.', additional_kwargs={}, response_metadata={}),\n",
              " AIMessage(content='', additional_kwargs={'tool_calls': [{'id': 'hnf4rek49', 'function': {'arguments': '{\"base_currency\":\"USD\",\"target_currency\":\"INR\"}', 'name': 'get_conversion_factor'}, 'type': 'function'}, {'id': 'srjamkhrp', 'function': {'arguments': '{\"base_currency_value\":10}', 'name': 'convert'}, 'type': 'function'}]}, response_metadata={'token_usage': {'completion_tokens': 53, 'prompt_tokens': 781, 'total_tokens': 834, 'completion_time': 0.126694353, 'prompt_time': 0.059200639, 'queue_time': 0.19468332300000002, 'total_time': 0.185894992}, 'model_name': 'meta-llama/llama-4-scout-17b-16e-instruct', 'system_fingerprint': 'fp_37da608fc1', 'service_tier': 'on_demand', 'finish_reason': 'tool_calls', 'logprobs': None}, id='run--36b4fc09-9feb-444b-8998-6265fd9f9efd-0', tool_calls=[{'name': 'get_conversion_factor', 'args': {'base_currency': 'USD', 'target_currency': 'INR'}, 'id': 'hnf4rek49', 'type': 'tool_call'}, {'name': 'convert', 'args': {'base_currency_value': 10, 'conversion_rate': 87.4485}, 'id': 'srjamkhrp', 'type': 'tool_call'}], usage_metadata={'input_tokens': 781, 'output_tokens': 53, 'total_tokens': 834}),\n",
              " ToolMessage(content='{\"result\": \"success\", \"documentation\": \"https://www.exchangerate-api.com/docs\", \"terms_of_use\": \"https://www.exchangerate-api.com/terms\", \"time_last_update_unix\": 1754179202, \"time_last_update_utc\": \"Sun, 03 Aug 2025 00:00:02 +0000\", \"time_next_update_unix\": 1754265602, \"time_next_update_utc\": \"Mon, 04 Aug 2025 00:00:02 +0000\", \"base_code\": \"USD\", \"target_code\": \"INR\", \"conversion_rate\": 87.4485}', name='get_conversion_factor', tool_call_id='hnf4rek49'),\n",
              " ToolMessage(content='874.4849999999999', name='convert', tool_call_id='srjamkhrp')]"
            ]
          },
          "metadata": {},
          "execution_count": 85
        }
      ]
    },
    {
      "cell_type": "code",
      "source": [
        "llm_with_tools.invoke(messages)"
      ],
      "metadata": {
        "colab": {
          "base_uri": "https://localhost:8080/"
        },
        "id": "RexdiwvKckiA",
        "outputId": "4c0f98e3-5a4d-49a8-ee96-92cf4d14fa39"
      },
      "execution_count": 86,
      "outputs": [
        {
          "output_type": "execute_result",
          "data": {
            "text/plain": [
              "AIMessage(content='The conversion rate between USD and INR is 87.4485. \\n10 USD is equal to 874.485 INR.', additional_kwargs={}, response_metadata={'token_usage': {'completion_tokens': 27, 'prompt_tokens': 1000, 'total_tokens': 1027, 'completion_time': 0.066148129, 'prompt_time': 0.05139063, 'queue_time': 0.201092488, 'total_time': 0.117538759}, 'model_name': 'meta-llama/llama-4-scout-17b-16e-instruct', 'system_fingerprint': 'fp_37da608fc1', 'service_tier': 'on_demand', 'finish_reason': 'stop', 'logprobs': None}, id='run--d43f9a94-7279-47ba-9189-e1d253b7507b-0', usage_metadata={'input_tokens': 1000, 'output_tokens': 27, 'total_tokens': 1027})"
            ]
          },
          "metadata": {},
          "execution_count": 86
        }
      ]
    },
    {
      "cell_type": "code",
      "source": [
        "llm_with_tools.invoke(messages).content"
      ],
      "metadata": {
        "colab": {
          "base_uri": "https://localhost:8080/",
          "height": 36
        },
        "id": "P9IaemdecsfY",
        "outputId": "5bc0a50e-d596-435b-be49-2c896d611f3b"
      },
      "execution_count": 87,
      "outputs": [
        {
          "output_type": "execute_result",
          "data": {
            "text/plain": [
              "'The conversion rate between USD and INR is 87.4485. \\n\\n10 USD is equal to 874.485 INR.'"
            ],
            "application/vnd.google.colaboratory.intrinsic+json": {
              "type": "string"
            }
          },
          "metadata": {},
          "execution_count": 87
        }
      ]
    },
    {
      "cell_type": "code",
      "source": [
        "from langchain.agents import initialize_agent, AgentType\n",
        "\n",
        "# Step 5: Initialize the Agent ---\n",
        "agent_executor = initialize_agent(\n",
        "    tools=[get_conversion_factor, convert],\n",
        "    llm=llm,\n",
        "    agent=AgentType.STRUCTURED_CHAT_ZERO_SHOT_REACT_DESCRIPTION,  # using ReAct pattern\n",
        "    verbose=True  # shows internal thinking\n",
        ")"
      ],
      "metadata": {
        "colab": {
          "base_uri": "https://localhost:8080/"
        },
        "id": "ZROt6Cejczvp",
        "outputId": "c40cea10-e675-40ec-883a-2125e1bccd7e"
      },
      "execution_count": 88,
      "outputs": [
        {
          "output_type": "stream",
          "name": "stderr",
          "text": [
            "/tmp/ipython-input-627313024.py:4: LangChainDeprecationWarning: LangChain agents will continue to be supported, but it is recommended for new use cases to be built with LangGraph. LangGraph offers a more flexible and full-featured framework for building agents, including support for tool-calling, persistence of state, and human-in-the-loop workflows. For details, refer to the `LangGraph documentation <https://langchain-ai.github.io/langgraph/>`_ as well as guides for `Migrating from AgentExecutor <https://python.langchain.com/docs/how_to/migrate_agent/>`_ and LangGraph's `Pre-built ReAct agent <https://langchain-ai.github.io/langgraph/how-tos/create-react-agent/>`_.\n",
            "  agent_executor = initialize_agent(\n"
          ]
        }
      ]
    },
    {
      "cell_type": "code",
      "source": [
        "# --- Step 6: Run the Agent ---\n",
        "user_query = \"Hi how are you?\"\n",
        "\n",
        "response = agent_executor.invoke({\"input\": user_query})"
      ],
      "metadata": {
        "colab": {
          "base_uri": "https://localhost:8080/"
        },
        "id": "NJ4NQM2veViL",
        "outputId": "2be24282-6908-454f-8159-d6978b7e35a4"
      },
      "execution_count": 89,
      "outputs": [
        {
          "output_type": "stream",
          "name": "stdout",
          "text": [
            "\n",
            "\n",
            "\u001b[1m> Entering new AgentExecutor chain...\u001b[0m\n",
            "\u001b[32;1m\u001b[1;3mThought: I'm just a language model, I don't have feelings like humans do, but I'm functioning properly and ready to help with any questions or tasks you have. \n",
            "\n",
            "Action:\n",
            "```\n",
            "{\n",
            " \"action\": \"Final Answer\",\n",
            " \"action_input\": \"I'm doing well, thanks for asking! How can I assist you today?\"\n",
            "}\n",
            "```\u001b[0m\n",
            "\n",
            "\u001b[1m> Finished chain.\u001b[0m\n"
          ]
        }
      ]
    },
    {
      "cell_type": "code",
      "source": [],
      "metadata": {
        "id": "jiqe_fLteXx6"
      },
      "execution_count": null,
      "outputs": []
    }
  ]
}