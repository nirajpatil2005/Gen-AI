{
  "nbformat": 4,
  "nbformat_minor": 0,
  "metadata": {
    "colab": {
      "provenance": [],
      "gpuType": "T4"
    },
    "kernelspec": {
      "name": "python3",
      "display_name": "Python 3"
    },
    "language_info": {
      "name": "python"
    },
    "accelerator": "GPU"
  },
  "cells": [
    {
      "cell_type": "code",
      "source": [
        "!pip install -q langchain_groq langchain-core requests dotenv"
      ],
      "metadata": {
        "id": "SmVz_geTKiPw"
      },
      "execution_count": 72,
      "outputs": []
    },
    {
      "cell_type": "code",
      "execution_count": 73,
      "metadata": {
        "colab": {
          "base_uri": "https://localhost:8080/"
        },
        "id": "-u1vMwYTJaRL",
        "outputId": "e4cff3d6-9462-4ea9-ef0b-6e1f19cbdf5d"
      },
      "outputs": [
        {
          "output_type": "stream",
          "name": "stdout",
          "text": [
            "content=\"Hello! How can I assist you today? Do you have a specific question, topic you'd like to discuss, or task you need help with? I'm here to help!\" additional_kwargs={} response_metadata={'token_usage': {'completion_tokens': 35, 'prompt_tokens': 11, 'total_tokens': 46, 'completion_time': 0.092336168, 'prompt_time': 0.002755069, 'queue_time': 0.224692538, 'total_time': 0.095091237}, 'model_name': 'meta-llama/llama-4-scout-17b-16e-instruct', 'system_fingerprint': 'fp_37da608fc1', 'service_tier': 'on_demand', 'finish_reason': 'stop', 'logprobs': None} id='run--d3eb95d1-f53f-44bb-af0b-ca32947b051f-0' usage_metadata={'input_tokens': 11, 'output_tokens': 35, 'total_tokens': 46}\n"
          ]
        }
      ],
      "source": [
        "from langchain_groq import ChatGroq\n",
        "import os\n",
        "from dotenv import load_dotenv\n",
        "load_dotenv()\n",
        "groq_token = os.getenv(\"test_groq\")\n",
        "llm = ChatGroq(\n",
        "    groq_api_key=groq_token,\n",
        "    model_name=\"meta-llama/llama-4-scout-17b-16e-instruct\"\n",
        ")\n",
        "\n",
        "# Use llm directly - no need for ChatHuggingFace wrapper\n",
        "response = llm.invoke(\"hi\")\n",
        "print(response)"
      ]
    },
    {
      "cell_type": "code",
      "source": [
        "from langchain_groq import ChatGroq\n",
        "from langchain_core.tools import tool\n",
        "from langchain_core.messages import HumanMessage\n",
        "import requests"
      ],
      "metadata": {
        "id": "AnQA4QCRKnBk"
      },
      "execution_count": 74,
      "outputs": []
    },
    {
      "cell_type": "markdown",
      "source": [
        "# **Tool create**"
      ],
      "metadata": {
        "id": "bvwhwUdYQBXs"
      }
    },
    {
      "cell_type": "code",
      "source": [
        "#tool create\n",
        "\n",
        "@tool\n",
        "def multiply(a:int,b:int)->int:\n",
        "  \"\"\"Given 2 numbers a and b this tool return their product\"\"\"\n",
        "  return a*b\n",
        "\n",
        "print(multiply.invoke({'a':4,'b':5}))"
      ],
      "metadata": {
        "colab": {
          "base_uri": "https://localhost:8080/"
        },
        "id": "FR-kDFwuLU33",
        "outputId": "f11ba1ef-834d-4c69-a52b-f2c62b4b7d66"
      },
      "execution_count": 75,
      "outputs": [
        {
          "output_type": "stream",
          "name": "stdout",
          "text": [
            "20\n"
          ]
        }
      ]
    },
    {
      "cell_type": "markdown",
      "source": [
        "## **Tool binding**"
      ],
      "metadata": {
        "id": "ksbePYJEP3cS"
      }
    },
    {
      "cell_type": "code",
      "source": [
        "#tool binding\n",
        "llm_with_tools=llm.bind_tools([multiply])"
      ],
      "metadata": {
        "id": "3TbCYLADL1sg"
      },
      "execution_count": 76,
      "outputs": []
    },
    {
      "cell_type": "code",
      "source": [
        "llm"
      ],
      "metadata": {
        "colab": {
          "base_uri": "https://localhost:8080/"
        },
        "id": "9HoVSvM0MAy1",
        "outputId": "fca6642a-17a4-4b37-8aba-62b9c13c5a18"
      },
      "execution_count": 77,
      "outputs": [
        {
          "output_type": "execute_result",
          "data": {
            "text/plain": [
              "ChatGroq(client=<groq.resources.chat.completions.Completions object at 0x7bae1d5fb890>, async_client=<groq.resources.chat.completions.AsyncCompletions object at 0x7bae1d7c2d50>, model_name='meta-llama/llama-4-scout-17b-16e-instruct', model_kwargs={}, groq_api_key=SecretStr('**********'))"
            ]
          },
          "metadata": {},
          "execution_count": 77
        }
      ]
    },
    {
      "cell_type": "markdown",
      "source": [
        "# **Tool Calling**"
      ],
      "metadata": {
        "id": "d2PjJIE3MZau"
      }
    },
    {
      "cell_type": "code",
      "source": [
        "llm_with_tools.invoke(\"hi what's up?\")"
      ],
      "metadata": {
        "colab": {
          "base_uri": "https://localhost:8080/"
        },
        "id": "QsHefOTTMEN-",
        "outputId": "7a5a9384-505c-4ba7-f3e1-b88a389229bb"
      },
      "execution_count": 78,
      "outputs": [
        {
          "output_type": "execute_result",
          "data": {
            "text/plain": [
              "AIMessage(content='Not much! Just here and ready to help. How can I assist you today?', additional_kwargs={}, response_metadata={'token_usage': {'completion_tokens': 18, 'prompt_tokens': 684, 'total_tokens': 702, 'completion_time': 0.048459704, 'prompt_time': 0.076111601, 'queue_time': 0.21948551600000002, 'total_time': 0.124571305}, 'model_name': 'meta-llama/llama-4-scout-17b-16e-instruct', 'system_fingerprint': 'fp_79da0e0073', 'service_tier': 'on_demand', 'finish_reason': 'stop', 'logprobs': None}, id='run--7f2bc30a-e3c6-4b05-8b50-ad7d49684168-0', usage_metadata={'input_tokens': 684, 'output_tokens': 18, 'total_tokens': 702})"
            ]
          },
          "metadata": {},
          "execution_count": 78
        }
      ]
    },
    {
      "cell_type": "code",
      "source": [
        "response = llm_with_tools.invoke(\n",
        "    \"Multiply the integers 78 and 96. Do NOT format them as strings.\"\n",
        ")\n",
        "print(response.tool_calls)"
      ],
      "metadata": {
        "colab": {
          "base_uri": "https://localhost:8080/"
        },
        "id": "p4C9ZRCGMe1u",
        "outputId": "7b4b65aa-c150-4057-8427-f8174efbbddd"
      },
      "execution_count": 79,
      "outputs": [
        {
          "output_type": "stream",
          "name": "stdout",
          "text": [
            "[{'name': 'multiply', 'args': {'a': 78, 'b': 96}, 'id': 'nqfgdbe56', 'type': 'tool_call'}]\n"
          ]
        }
      ]
    },
    {
      "cell_type": "markdown",
      "source": [
        "# **Tool Execution**"
      ],
      "metadata": {
        "id": "U2RnLsepO2zS"
      }
    },
    {
      "cell_type": "code",
      "source": [
        "response.tool_calls[0]"
      ],
      "metadata": {
        "colab": {
          "base_uri": "https://localhost:8080/"
        },
        "id": "SHPQuvmwPgfQ",
        "outputId": "dfe46535-3cf8-4053-c352-438a96676189"
      },
      "execution_count": 80,
      "outputs": [
        {
          "output_type": "execute_result",
          "data": {
            "text/plain": [
              "{'name': 'multiply',\n",
              " 'args': {'a': 78, 'b': 96},\n",
              " 'id': 'nqfgdbe56',\n",
              " 'type': 'tool_call'}"
            ]
          },
          "metadata": {},
          "execution_count": 80
        }
      ]
    },
    {
      "cell_type": "code",
      "source": [
        "response.tool_calls[0]['args']"
      ],
      "metadata": {
        "colab": {
          "base_uri": "https://localhost:8080/"
        },
        "id": "OM0g_mm7MvLR",
        "outputId": "16bbe035-efd2-4dd6-ed9a-0a48052e6d75"
      },
      "execution_count": 81,
      "outputs": [
        {
          "output_type": "execute_result",
          "data": {
            "text/plain": [
              "{'a': 78, 'b': 96}"
            ]
          },
          "metadata": {},
          "execution_count": 81
        }
      ]
    },
    {
      "cell_type": "code",
      "source": [
        "multiply.invoke(response.tool_calls[0]['args'])"
      ],
      "metadata": {
        "colab": {
          "base_uri": "https://localhost:8080/"
        },
        "id": "WN4op_SePMtl",
        "outputId": "4fd128ee-ed22-4ba8-eafd-74091233f23e"
      },
      "execution_count": 82,
      "outputs": [
        {
          "output_type": "execute_result",
          "data": {
            "text/plain": [
              "7488"
            ]
          },
          "metadata": {},
          "execution_count": 82
        }
      ]
    },
    {
      "cell_type": "code",
      "source": [
        "multiply.invoke(response.tool_calls[0])"
      ],
      "metadata": {
        "colab": {
          "base_uri": "https://localhost:8080/"
        },
        "id": "9TMgbhdhPXxW",
        "outputId": "27744817-ce59-44a7-e915-edd4209fb52e"
      },
      "execution_count": 83,
      "outputs": [
        {
          "output_type": "execute_result",
          "data": {
            "text/plain": [
              "ToolMessage(content='7488', name='multiply', tool_call_id='nqfgdbe56')"
            ]
          },
          "metadata": {},
          "execution_count": 83
        }
      ]
    },
    {
      "cell_type": "code",
      "source": [
        "query=HumanMessage(\"can you multiply 3 with 10 .Do Not format them as string\")"
      ],
      "metadata": {
        "id": "QxTEMVgePnwT"
      },
      "execution_count": 84,
      "outputs": []
    },
    {
      "cell_type": "code",
      "source": [
        "messages=[query]\n",
        "messages"
      ],
      "metadata": {
        "colab": {
          "base_uri": "https://localhost:8080/"
        },
        "id": "NuMv7SmsQd4i",
        "outputId": "68932d83-5bdf-441f-a68a-11eb974487aa"
      },
      "execution_count": 85,
      "outputs": [
        {
          "output_type": "execute_result",
          "data": {
            "text/plain": [
              "[HumanMessage(content='can you multiply 3 with 10 .Do Not format them as string', additional_kwargs={}, response_metadata={})]"
            ]
          },
          "metadata": {},
          "execution_count": 85
        }
      ]
    },
    {
      "cell_type": "code",
      "source": [
        "result=llm_with_tools.invoke(messages)"
      ],
      "metadata": {
        "id": "nv56Jm8tQfzU"
      },
      "execution_count": 86,
      "outputs": []
    },
    {
      "cell_type": "code",
      "source": [
        "result"
      ],
      "metadata": {
        "colab": {
          "base_uri": "https://localhost:8080/"
        },
        "id": "Hewe9YRvRECq",
        "outputId": "654232a3-b79b-44a0-a507-5425fee50f51"
      },
      "execution_count": 87,
      "outputs": [
        {
          "output_type": "execute_result",
          "data": {
            "text/plain": [
              "AIMessage(content='', additional_kwargs={'tool_calls': [{'id': '5jb87x0a0', 'function': {'arguments': '{\"a\":3,\"b\":10}', 'name': 'multiply'}, 'type': 'function'}]}, response_metadata={'token_usage': {'completion_tokens': 28, 'prompt_tokens': 693, 'total_tokens': 721, 'completion_time': 0.069178622, 'prompt_time': 0.049800984, 'queue_time': 0.56766585, 'total_time': 0.118979606}, 'model_name': 'meta-llama/llama-4-scout-17b-16e-instruct', 'system_fingerprint': 'fp_37da608fc1', 'service_tier': 'on_demand', 'finish_reason': 'tool_calls', 'logprobs': None}, id='run--3760a355-9c6c-4a01-80fa-3376ba4055ea-0', tool_calls=[{'name': 'multiply', 'args': {'a': 3, 'b': 10}, 'id': '5jb87x0a0', 'type': 'tool_call'}], usage_metadata={'input_tokens': 693, 'output_tokens': 28, 'total_tokens': 721})"
            ]
          },
          "metadata": {},
          "execution_count": 87
        }
      ]
    },
    {
      "cell_type": "code",
      "source": [
        "result.tool_calls"
      ],
      "metadata": {
        "colab": {
          "base_uri": "https://localhost:8080/"
        },
        "id": "_wUUed1xQszj",
        "outputId": "f1efbfe6-8882-40a5-b1ae-ec39039b39db"
      },
      "execution_count": 88,
      "outputs": [
        {
          "output_type": "execute_result",
          "data": {
            "text/plain": [
              "[{'name': 'multiply',\n",
              "  'args': {'a': 3, 'b': 10},\n",
              "  'id': '5jb87x0a0',\n",
              "  'type': 'tool_call'}]"
            ]
          },
          "metadata": {},
          "execution_count": 88
        }
      ]
    },
    {
      "cell_type": "code",
      "source": [
        "messages.append(result)\n",
        "len(messages)\n",
        "messages"
      ],
      "metadata": {
        "colab": {
          "base_uri": "https://localhost:8080/"
        },
        "id": "rOwPl5FgQu64",
        "outputId": "a305139a-31d2-4376-9c6a-4bff046b5fff"
      },
      "execution_count": 89,
      "outputs": [
        {
          "output_type": "execute_result",
          "data": {
            "text/plain": [
              "[HumanMessage(content='can you multiply 3 with 10 .Do Not format them as string', additional_kwargs={}, response_metadata={}),\n",
              " AIMessage(content='', additional_kwargs={'tool_calls': [{'id': '5jb87x0a0', 'function': {'arguments': '{\"a\":3,\"b\":10}', 'name': 'multiply'}, 'type': 'function'}]}, response_metadata={'token_usage': {'completion_tokens': 28, 'prompt_tokens': 693, 'total_tokens': 721, 'completion_time': 0.069178622, 'prompt_time': 0.049800984, 'queue_time': 0.56766585, 'total_time': 0.118979606}, 'model_name': 'meta-llama/llama-4-scout-17b-16e-instruct', 'system_fingerprint': 'fp_37da608fc1', 'service_tier': 'on_demand', 'finish_reason': 'tool_calls', 'logprobs': None}, id='run--3760a355-9c6c-4a01-80fa-3376ba4055ea-0', tool_calls=[{'name': 'multiply', 'args': {'a': 3, 'b': 10}, 'id': '5jb87x0a0', 'type': 'tool_call'}], usage_metadata={'input_tokens': 693, 'output_tokens': 28, 'total_tokens': 721})]"
            ]
          },
          "metadata": {},
          "execution_count": 89
        }
      ]
    },
    {
      "cell_type": "code",
      "source": [
        "tool_result=multiply.invoke(result.tool_calls[0])"
      ],
      "metadata": {
        "id": "nLltz2CxSPCB"
      },
      "execution_count": 90,
      "outputs": []
    },
    {
      "cell_type": "code",
      "source": [
        "messages.append(tool_result)"
      ],
      "metadata": {
        "id": "M_ZWao7LSOfU"
      },
      "execution_count": 91,
      "outputs": []
    },
    {
      "cell_type": "code",
      "source": [
        "llm_with_tools.invoke(messages)"
      ],
      "metadata": {
        "colab": {
          "base_uri": "https://localhost:8080/"
        },
        "id": "YtrFRsgPScW5",
        "outputId": "743b5641-aacc-49f2-fddc-c1dbbc306959"
      },
      "execution_count": 92,
      "outputs": [
        {
          "output_type": "execute_result",
          "data": {
            "text/plain": [
              "AIMessage(content='The result of multiplying 3 by 10 is 30.', additional_kwargs={}, response_metadata={'token_usage': {'completion_tokens': 14, 'prompt_tokens': 738, 'total_tokens': 752, 'completion_time': 0.03830883, 'prompt_time': 0.243332535, 'queue_time': 0.237398509, 'total_time': 0.281641365}, 'model_name': 'meta-llama/llama-4-scout-17b-16e-instruct', 'system_fingerprint': 'fp_37da608fc1', 'service_tier': 'on_demand', 'finish_reason': 'stop', 'logprobs': None}, id='run--2eef0b05-71f9-42ed-a621-dadf970f6020-0', usage_metadata={'input_tokens': 738, 'output_tokens': 14, 'total_tokens': 752})"
            ]
          },
          "metadata": {},
          "execution_count": 92
        }
      ]
    },
    {
      "cell_type": "code",
      "source": [
        "llm_with_tools.invoke(messages).content"
      ],
      "metadata": {
        "colab": {
          "base_uri": "https://localhost:8080/",
          "height": 36
        },
        "id": "xOb7zEsWRO8I",
        "outputId": "18c01e63-3d4a-4f56-aa5f-a4f43c49cb2c"
      },
      "execution_count": 93,
      "outputs": [
        {
          "output_type": "execute_result",
          "data": {
            "text/plain": [
              "'The result of multiplying 3 by 10 is 30.'"
            ],
            "application/vnd.google.colaboratory.intrinsic+json": {
              "type": "string"
            }
          },
          "metadata": {},
          "execution_count": 93
        }
      ]
    },
    {
      "cell_type": "code",
      "source": [],
      "metadata": {
        "id": "9gS_UK0hRawn"
      },
      "execution_count": 93,
      "outputs": []
    }
  ]
}