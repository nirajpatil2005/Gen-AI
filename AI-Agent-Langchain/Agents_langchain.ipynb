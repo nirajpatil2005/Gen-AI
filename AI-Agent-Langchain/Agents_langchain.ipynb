{
  "nbformat": 4,
  "nbformat_minor": 0,
  "metadata": {
    "colab": {
      "provenance": [],
      "gpuType": "T4"
    },
    "kernelspec": {
      "name": "python3",
      "display_name": "Python 3"
    },
    "language_info": {
      "name": "python"
    },
    "accelerator": "GPU"
  },
  "cells": [
    {
      "cell_type": "code",
      "source": [
        "pip install ddgs"
      ],
      "metadata": {
        "colab": {
          "base_uri": "https://localhost:8080/"
        },
        "id": "LPuPgj0E5YZ4",
        "outputId": "9d12eaea-ad63-415a-ade9-1c490933978e"
      },
      "execution_count": 9,
      "outputs": [
        {
          "output_type": "stream",
          "name": "stdout",
          "text": [
            "Collecting ddgs\n",
            "  Downloading ddgs-9.5.1-py3-none-any.whl.metadata (18 kB)\n",
            "Requirement already satisfied: click>=8.1.8 in /usr/local/lib/python3.11/dist-packages (from ddgs) (8.2.1)\n",
            "Requirement already satisfied: primp>=0.15.0 in /usr/local/lib/python3.11/dist-packages (from ddgs) (0.15.0)\n",
            "Requirement already satisfied: lxml>=5.3.0 in /usr/local/lib/python3.11/dist-packages (from ddgs) (5.4.0)\n",
            "Downloading ddgs-9.5.1-py3-none-any.whl (36 kB)\n",
            "Installing collected packages: ddgs\n",
            "Successfully installed ddgs-9.5.1\n"
          ]
        }
      ]
    },
    {
      "cell_type": "code",
      "source": [
        "!pip install -q langchain_groq langchain-community langchain-core requests duckduckgo-search"
      ],
      "metadata": {
        "colab": {
          "base_uri": "https://localhost:8080/"
        },
        "id": "G3zBUjBS4m9x",
        "outputId": "97595ead-a61f-4ed3-8f13-ebfdcb68cd1a"
      },
      "execution_count": 1,
      "outputs": [
        {
          "output_type": "stream",
          "name": "stdout",
          "text": [
            "\u001b[2K   \u001b[90m━━━━━━━━━━━━━━━━━━━━━━━━━━━━━━━━━━━━━━━━\u001b[0m \u001b[32m2.5/2.5 MB\u001b[0m \u001b[31m34.7 MB/s\u001b[0m eta \u001b[36m0:00:00\u001b[0m\n",
            "\u001b[2K   \u001b[90m━━━━━━━━━━━━━━━━━━━━━━━━━━━━━━━━━━━━━━━━\u001b[0m \u001b[32m131.1/131.1 kB\u001b[0m \u001b[31m9.5 MB/s\u001b[0m eta \u001b[36m0:00:00\u001b[0m\n",
            "\u001b[2K   \u001b[90m━━━━━━━━━━━━━━━━━━━━━━━━━━━━━━━━━━━━━━━━\u001b[0m \u001b[32m3.3/3.3 MB\u001b[0m \u001b[31m78.3 MB/s\u001b[0m eta \u001b[36m0:00:00\u001b[0m\n",
            "\u001b[2K   \u001b[90m━━━━━━━━━━━━━━━━━━━━━━━━━━━━━━━━━━━━━━━━\u001b[0m \u001b[32m45.2/45.2 kB\u001b[0m \u001b[31m2.8 MB/s\u001b[0m eta \u001b[36m0:00:00\u001b[0m\n",
            "\u001b[2K   \u001b[90m━━━━━━━━━━━━━━━━━━━━━━━━━━━━━━━━━━━━━━━━\u001b[0m \u001b[32m50.9/50.9 kB\u001b[0m \u001b[31m3.8 MB/s\u001b[0m eta \u001b[36m0:00:00\u001b[0m\n",
            "\u001b[?25h"
          ]
        }
      ]
    },
    {
      "cell_type": "code",
      "execution_count": 5,
      "metadata": {
        "colab": {
          "base_uri": "https://localhost:8080/"
        },
        "id": "lw1BiHuQ4YDz",
        "outputId": "794d5b1f-b609-4bcc-f1c3-4660158e28e8"
      },
      "outputs": [
        {
          "output_type": "stream",
          "name": "stdout",
          "text": [
            "content='Hi! How are you today? Is there something I can help you with or would you like to chat?' additional_kwargs={} response_metadata={'token_usage': {'completion_tokens': 23, 'prompt_tokens': 11, 'total_tokens': 34, 'completion_time': 0.052700574, 'prompt_time': 0.00245506, 'queue_time': 0.212308176, 'total_time': 0.055155634}, 'model_name': 'meta-llama/llama-4-scout-17b-16e-instruct', 'system_fingerprint': 'fp_37da608fc1', 'service_tier': 'on_demand', 'finish_reason': 'stop', 'logprobs': None} id='run--959a492c-5597-4f0f-84b9-275a33b353e0-0' usage_metadata={'input_tokens': 11, 'output_tokens': 23, 'total_tokens': 34}\n"
          ]
        }
      ],
      "source": [
        "from langchain_groq import ChatGroq\n",
        "import os\n",
        "from dotenv import load_dotenv\n",
        "load_dotenv()\n",
        "groq_token = os.getenv(\"test_groq\")\n",
        "llm = ChatGroq(\n",
        "    groq_api_key=groq_token,\n",
        "    model_name=\"meta-llama/llama-4-scout-17b-16e-instruct\"\n",
        ")\n",
        "\n",
        "response = llm.invoke(\"hi\")\n",
        "print(response)"
      ]
    },
    {
      "cell_type": "code",
      "source": [
        "from langchain_community.tools import DuckDuckGoSearchRun,tool\n",
        "import requests"
      ],
      "metadata": {
        "id": "riPB9uYE4ppJ"
      },
      "execution_count": 6,
      "outputs": []
    },
    {
      "cell_type": "code",
      "source": [
        "search_tool=DuckDuckGoSearchRun()\n",
        "results=search_tool.invoke('top news in india today')\n",
        "results"
      ],
      "metadata": {
        "colab": {
          "base_uri": "https://localhost:8080/",
          "height": 142
        },
        "id": "qm3rZTPj5Am8",
        "outputId": "bbf6ee38-d941-4322-ec4e-ba067ac87e6a"
      },
      "execution_count": 11,
      "outputs": [
        {
          "output_type": "stream",
          "name": "stderr",
          "text": [
            "/usr/local/lib/python3.11/dist-packages/langchain_community/utilities/duckduckgo_search.py:63: RuntimeWarning: This package (`duckduckgo_search`) has been renamed to `ddgs`! Use `pip install ddgs` instead.\n",
            "  with DDGS() as ddgs:\n"
          ]
        },
        {
          "output_type": "execute_result",
          "data": {
            "text/plain": [
              "\"The meaning of TOP is the highest point, level, or part of something : summit, crown. How to use top in a sentence. TOP definition: 1. the highest place or part: 2. the flat upper surface of something: 3. in baseball, the first…. Learn more. Definition of top noun in Oxford Advanced Learner's Dictionary. Meaning, pronunciation, picture, example sentences, grammar, usage notes, synonyms and more. Top definition: the highest or loftiest point or part of anything on a slope; apex; summit.. See examples of TOP used in a sentence. The highest or uppermost part of something is its top, like the top rung of a ladder or the top bunk of a bunkbed.\""
            ],
            "application/vnd.google.colaboratory.intrinsic+json": {
              "type": "string"
            }
          },
          "metadata": {},
          "execution_count": 11
        }
      ]
    },
    {
      "cell_type": "code",
      "source": [
        "llm"
      ],
      "metadata": {
        "colab": {
          "base_uri": "https://localhost:8080/"
        },
        "id": "prUvGM3N5kqW",
        "outputId": "6cf61eec-1c62-4e02-b79a-ebfd1a26ab31"
      },
      "execution_count": 13,
      "outputs": [
        {
          "output_type": "execute_result",
          "data": {
            "text/plain": [
              "ChatGroq(client=<groq.resources.chat.completions.Completions object at 0x7f66acef7b10>, async_client=<groq.resources.chat.completions.AsyncCompletions object at 0x7f66acef64d0>, model_name='meta-llama/llama-4-scout-17b-16e-instruct', model_kwargs={}, groq_api_key=SecretStr('**********'))"
            ]
          },
          "metadata": {},
          "execution_count": 13
        }
      ]
    },
    {
      "cell_type": "code",
      "source": [
        "llm.invoke('hello')"
      ],
      "metadata": {
        "colab": {
          "base_uri": "https://localhost:8080/"
        },
        "id": "GjaTF3gA5tsq",
        "outputId": "a0782dbd-aca3-4ed9-ffe6-4be3376e0c26"
      },
      "execution_count": 14,
      "outputs": [
        {
          "output_type": "execute_result",
          "data": {
            "text/plain": [
              "AIMessage(content='Hello! How are you today? Is there something I can help you with or would you like to chat?', additional_kwargs={}, response_metadata={'token_usage': {'completion_tokens': 23, 'prompt_tokens': 11, 'total_tokens': 34, 'completion_time': 0.052407118, 'prompt_time': 0.002452738, 'queue_time': 0.19428580399999998, 'total_time': 0.054859856}, 'model_name': 'meta-llama/llama-4-scout-17b-16e-instruct', 'system_fingerprint': 'fp_79da0e0073', 'service_tier': 'on_demand', 'finish_reason': 'stop', 'logprobs': None}, id='run--af15a490-d246-4ea6-a231-a73eaf33e3f3-0', usage_metadata={'input_tokens': 11, 'output_tokens': 23, 'total_tokens': 34})"
            ]
          },
          "metadata": {},
          "execution_count": 14
        }
      ]
    },
    {
      "cell_type": "code",
      "source": [
        "from langchain.agents import create_react_agent,AgentExecutor\n",
        "from langchain import hub"
      ],
      "metadata": {
        "colab": {
          "base_uri": "https://localhost:8080/"
        },
        "id": "JQNumA_Y5vud",
        "outputId": "8f6ac53f-f868-4b7b-ff5b-cf3dfc5dd6ca"
      },
      "execution_count": 15,
      "outputs": [
        {
          "output_type": "stream",
          "name": "stderr",
          "text": [
            "<frozen importlib._bootstrap>:1047: ImportWarning: _PyDriveImportHook.find_spec() not found; falling back to find_module()\n"
          ]
        }
      ]
    },
    {
      "cell_type": "code",
      "source": [
        "#Step 2:pull the React prompt from langchain hub\n",
        "\n",
        "prompt=hub.pull(\"hwchase17/react\")#pulls the standard ReAct agent prompt"
      ],
      "metadata": {
        "colab": {
          "base_uri": "https://localhost:8080/"
        },
        "id": "sW59NLEL56oM",
        "outputId": "a41bec32-8254-4be5-8830-2c56985281be"
      },
      "execution_count": 18,
      "outputs": [
        {
          "output_type": "stream",
          "name": "stderr",
          "text": [
            "/usr/local/lib/python3.11/dist-packages/langsmith/client.py:272: LangSmithMissingAPIKeyWarning: API key must be provided when using hosted LangSmith API\n",
            "  warnings.warn(\n"
          ]
        }
      ]
    },
    {
      "cell_type": "code",
      "source": [
        "#Step 3. :Create the ReAct agent manually with the pulled prompt\n",
        "agent=create_react_agent(\n",
        "    llm=llm,\n",
        "    tools=[search_tool],\n",
        "    prompt=prompt\n",
        ")"
      ],
      "metadata": {
        "id": "3JkBCJeD6QpV"
      },
      "execution_count": 20,
      "outputs": []
    },
    {
      "cell_type": "code",
      "source": [
        "#Step 4: Wrap it AgentExecutor\n",
        "agent_executor=AgentExecutor(\n",
        "    agent=agent,\n",
        "    tools=[search_tool],\n",
        "    verbose=True\n",
        ")"
      ],
      "metadata": {
        "id": "hmb2jXVl6p4z"
      },
      "execution_count": 24,
      "outputs": []
    },
    {
      "cell_type": "code",
      "source": [
        "#Step 5: Invoke\n",
        "response=agent_executor.invoke({'input':\"3 ways to reach goa from nashik\"})\n",
        "print(response)"
      ],
      "metadata": {
        "colab": {
          "base_uri": "https://localhost:8080/"
        },
        "id": "s_YA3Av-7Jdd",
        "outputId": "7adf0b04-0380-4998-f701-436d00d00454"
      },
      "execution_count": 31,
      "outputs": [
        {
          "output_type": "stream",
          "name": "stdout",
          "text": [
            "\n",
            "\n",
            "\u001b[1m> Entering new AgentExecutor chain...\u001b[0m\n",
            "\u001b[32;1m\u001b[1;3mTo find the ways to reach Goa from Nashik, I should search for travel options between these two locations.\n",
            "\n",
            "Action: duckduckgo_search\n",
            "Action Input: travel from nashik to goa\u001b[0m"
          ]
        },
        {
          "output_type": "stream",
          "name": "stderr",
          "text": [
            "/usr/local/lib/python3.11/dist-packages/langchain_community/utilities/duckduckgo_search.py:63: RuntimeWarning: This package (`duckduckgo_search`) has been renamed to `ddgs`! Use `pip install ddgs` instead.\n",
            "  with DDGS() as ddgs:\n"
          ]
        },
        {
          "output_type": "stream",
          "name": "stdout",
          "text": [
            "\u001b[36;1m\u001b[1;3mPlan your next trip, read reviews and get travel advice from our community on where to stay and what to do. Find savings on hotels, book the perfect tour or attraction, and reserve a table at … KAYAK searches hundreds of other travel sites at once to find the information you need to make the right decisions on flights, hotels & rental cars. Book flights, hotels, cars, and vacation packages with Travelocity. Enjoy price match guarantee, free changes, and cancellations for a hassle-free travel experience. Design your perfect vacation by choosing from the best ranked hotels, cruises and destinations. Find the perfect vacation based on region and type. Explore cruises and find the one that's … Discover the best hotels at the best price on PriceTravel.com. Our wide selection of hotels allows you to find the perfect option for your needs and budget. Plan your next trip with us and save …\u001b[0m\u001b[32;1m\u001b[1;3mThe search results seem to be more focused on booking travel arrangements rather than providing specific travel options from Nashik to Goa. I should try a more specific search query.\n",
            "\n",
            "Action: duckduckgo_search\n",
            "Action Input: how to reach goa from nashik by flight train bus\u001b[0m\u001b[36;1m\u001b[1;3mUnderstanding REACH REACH is a regulation of the European Union, adopted to improve the protection of human health and the environment from the risks that can be posed by chemicals, while enhancing the competitiveness of the EU chemicals industry. Jul 8, 2025 · REACH places responsibility on industry to manage the risks from chemicals and to provide safety information on the substances. To that end, manufacturers and importers are required to gather information on the properties of their chemical substances and to register that information in a central database in the European Chemicals Agency (ECHA). The Agency is … Chemical substances that are already regulated by other legislations such as medicines, or radioactive substances are partially or completely exempted from REACH requirements. Registration is based on the \" one substance, one registration \" principle. ECHA adds three hazardous chemicals to the Candidate List 25/06/2025 | REACH The Candidate List of substances of very high concern (SVHC) now contains 250 entries for chemicals that can harm people or the environment. Companies are responsible for managing the risks of these chemicals and giving customers and consumers information on their safe ... Substance identification is a process by which the identity of the substance is established. Accurate identification of a substance is a pre-requisite to most REACH, CLP and biocides processes. In particular, it enables joint REACH registrations to be prepared efficiently and correctly and ensures that test data is appropriate for the substance registered under REACH. …\u001b[0m"
          ]
        },
        {
          "output_type": "stream",
          "name": "stderr",
          "text": [
            "/usr/local/lib/python3.11/dist-packages/langchain_community/utilities/duckduckgo_search.py:63: RuntimeWarning: This package (`duckduckgo_search`) has been renamed to `ddgs`! Use `pip install ddgs` instead.\n",
            "  with DDGS() as ddgs:\n"
          ]
        },
        {
          "output_type": "stream",
          "name": "stdout",
          "text": [
            "\u001b[32;1m\u001b[1;3mIt seems like the search results are not providing the information we need about travel options from Nashik to Goa. Let's try another search query that's more specific.\n",
            "\n",
            "Action: duckduckgo_search\n",
            "Action Input: nashik to goa travel options\u001b[0m"
          ]
        },
        {
          "output_type": "stream",
          "name": "stderr",
          "text": [
            "/usr/local/lib/python3.11/dist-packages/langchain_community/utilities/duckduckgo_search.py:63: RuntimeWarning: This package (`duckduckgo_search`) has been renamed to `ddgs`! Use `pip install ddgs` instead.\n",
            "  with DDGS() as ddgs:\n"
          ]
        },
        {
          "output_type": "stream",
          "name": "stdout",
          "text": [
            "\u001b[36;1m\u001b[1;3mJul 6, 2025 · Explore the lush greenery and waterfalls, such as Dudhsagar Falls. Visit spice plantations for a unique tour and tasting experience. Enjoy the vibrant nightlife in indoor venues …Book Nasik to Goa train tickets and get Rs.100 Off using code RAILDEAL. Get confirmed ticket with TripGuarantee or 3X Refund on waitlisted trains. 3 days ago · The average bus ticket price from Nashik to Goa is approximately INR 1376. With redBus, you can access exclusive offers, discounts, and deals, ensuring you get the cheapest … Jul 4, 2025 · Find the best deals on flights from Nashik International (ISK) to Goa (IGOI). Compare prices from hundreds of major travel agents and airlines, all in one search. 5 days ago · Exploring the route from Nashik to Goa, Adani OneApp offers a diverse selection of bus options catering to various preferences and budgets. Passengers can choose from sleeper … Jun 10, 2025 · Here's a list of all the cheap flights from Nashik to Goa date-wise, their schedules (including departure and arrival time), as well as flight duration from ISK to GOX, the distance …\u001b[0m\u001b[32;1m\u001b[1;3mIt seems like we have some relevant information about travel options from Nashik to Goa. Let's summarize the options.\n",
            "\n",
            "Thought: I now know the final answer\n",
            "Final Answer: Based on the search results, here are 3 ways to reach Goa from Nashik:\n",
            "\n",
            "1. **By Flight**: You can fly from Nashik International (ISK) to Goa (IGOI). Adani OneApp and other travel agents offer cheap flights from Nashik to Goa, with varying schedules and durations.\n",
            "\n",
            "2. **By Train**: You can book a train ticket from Nashik to Goa, with options like TripGuarantee or 3X Refund on waitlisted trains. Use code RAILDEAL to get Rs.100 Off.\n",
            "\n",
            "3. **By Bus**: Bus travel is another option, with an average ticket price of INR1376. You can use redBus to access exclusive offers, discounts, and deals. Adani OneApp also offers a diverse selection of bus options catering to various preferences and budgets, including sleeper buses.\n",
            "\n",
            "These options provide a good starting point for planning your trip from Nashik to Goa.\u001b[0m\n",
            "\n",
            "\u001b[1m> Finished chain.\u001b[0m\n",
            "{'input': '3 ways to reach goa from nashik', 'output': 'Based on the search results, here are 3 ways to reach Goa from Nashik:\\n\\n1. **By Flight**: You can fly from Nashik International (ISK) to Goa (IGOI). Adani OneApp and other travel agents offer cheap flights from Nashik to Goa, with varying schedules and durations.\\n\\n2. **By Train**: You can book a train ticket from Nashik to Goa, with options like TripGuarantee or 3X Refund on waitlisted trains. Use code RAILDEAL to get Rs.100 Off.\\n\\n3. **By Bus**: Bus travel is another option, with an average ticket price of INR1376. You can use redBus to access exclusive offers, discounts, and deals. Adani OneApp also offers a diverse selection of bus options catering to various preferences and budgets, including sleeper buses.\\n\\nThese options provide a good starting point for planning your trip from Nashik to Goa.'}\n"
          ]
        }
      ]
    },
    {
      "cell_type": "code",
      "source": [
        "type(response)"
      ],
      "metadata": {
        "colab": {
          "base_uri": "https://localhost:8080/"
        },
        "id": "8N-3rG3T7s-u",
        "outputId": "ae207ff2-705e-4b0b-93b6-e38d9b005ee3"
      },
      "execution_count": 32,
      "outputs": [
        {
          "output_type": "execute_result",
          "data": {
            "text/plain": [
              "dict"
            ]
          },
          "metadata": {},
          "execution_count": 32
        }
      ]
    },
    {
      "cell_type": "code",
      "source": [
        "response['output']"
      ],
      "metadata": {
        "colab": {
          "base_uri": "https://localhost:8080/",
          "height": 105
        },
        "id": "epYuv-2L74Vx",
        "outputId": "2630af81-207c-4ad6-d650-dba73fd218ce"
      },
      "execution_count": 33,
      "outputs": [
        {
          "output_type": "execute_result",
          "data": {
            "text/plain": [
              "'Based on the search results, here are 3 ways to reach Goa from Nashik:\\n\\n1. **By Flight**: You can fly from Nashik International (ISK) to Goa (IGOI). Adani OneApp and other travel agents offer cheap flights from Nashik to Goa, with varying schedules and durations.\\n\\n2. **By Train**: You can book a train ticket from Nashik to Goa, with options like TripGuarantee or 3X Refund on waitlisted trains. Use code RAILDEAL to get Rs.100 Off.\\n\\n3. **By Bus**: Bus travel is another option, with an average ticket price of INR1376. You can use redBus to access exclusive offers, discounts, and deals. Adani OneApp also offers a diverse selection of bus options catering to various preferences and budgets, including sleeper buses.\\n\\nThese options provide a good starting point for planning your trip from Nashik to Goa.'"
            ],
            "application/vnd.google.colaboratory.intrinsic+json": {
              "type": "string"
            }
          },
          "metadata": {},
          "execution_count": 33
        }
      ]
    },
    {
      "cell_type": "code",
      "source": [
        "response=agent_executor.invoke({'input':\"who won ipl 2025??\"})\n",
        "print(response['output'])"
      ],
      "metadata": {
        "colab": {
          "base_uri": "https://localhost:8080/"
        },
        "id": "QMk3V8wH8b2D",
        "outputId": "3981f8c1-3cc2-45fe-e241-0ad38423a094"
      },
      "execution_count": 36,
      "outputs": [
        {
          "output_type": "stream",
          "name": "stdout",
          "text": [
            "\n",
            "\n",
            "\u001b[1m> Entering new AgentExecutor chain...\u001b[0m\n",
            "\u001b[32;1m\u001b[1;3mThought: To find out who won IPL 2025, I need to search for the latest information about the Indian Premier League, specifically the 2025 season. Since the 2025 season hasn't concluded yet, I'll need to look for current updates or predictions.\n",
            "\n",
            "Action: duckduckgo_search\n",
            "Action Input: IPL 2025 winner\u001b[0m\u001b[36;1m\u001b[1;3mJun 3, 2025 · IPL Winners List: Check out the list of Indian Premier League (IPL) winners from 2008 until 2025, including runners-up, venue, player … The 2025 Indian Premier League final was a Twenty20 (T20) cricket match played at the Narendra Modi Stadium, Ahmedabad, on 3 … Jun 3, 2025 · The Indian Premier League (IPL) 2025 season came to an end as Royal Challengers Bengaluru (RCB) were crowned … Jun 3, 2025 · Royal Challengers Bengaluru finally broke the jinx, and won their first IPL title in 18 attempts. Here is the full list of winners of all … Jun 4, 2025 · Royal Challengers Bangalore secured their maiden IPL title in 2025, alongside stellar individual performances.\u001b[0m"
          ]
        },
        {
          "output_type": "stream",
          "name": "stderr",
          "text": [
            "/usr/local/lib/python3.11/dist-packages/langchain_community/utilities/duckduckgo_search.py:63: RuntimeWarning: This package (`duckduckgo_search`) has been renamed to `ddgs`! Use `pip install ddgs` instead.\n",
            "  with DDGS() as ddgs:\n"
          ]
        },
        {
          "output_type": "stream",
          "name": "stdout",
          "text": [
            "\u001b[32;1m\u001b[1;3mThought: Based on the search results, it appears that Royal Challengers Bengaluru (RCB) won the IPL 2025 season. I will now confirm this information by checking another source to ensure accuracy.\n",
            "\n",
            "Action: duckduckgo_search\n",
            "Action Input: Royal Challengers Bengaluru IPL 2025 champion\u001b[0m\u001b[36;1m\u001b[1;3mNestled in the heart of Alagbaka Quarters, Akure is the prestigious and luxurious Royal Birds Hotel & Tower. The hotel is an ideal relaxation spot, where … Nestled in the heart of Akure, is the prestigious and luxurious Royal Birds Motel. The Motel is an ideal relaxation spot, where one can rediscover and … Cruise to unforgettable destinations with Royal Caribbean. Save with the best cruise deals and packages to the Caribbean and the Bahamas. Start … My whole life, and during all of my 36 visits to your country, I have been in awe of France’s extraordinary attributes … Strategically located, Royal Birds Hotel is just minutes from Akure’s bustling business districts and cultural attractions, making it a perfect choice for …\u001b[0m"
          ]
        },
        {
          "output_type": "stream",
          "name": "stderr",
          "text": [
            "/usr/local/lib/python3.11/dist-packages/langchain_community/utilities/duckduckgo_search.py:63: RuntimeWarning: This package (`duckduckgo_search`) has been renamed to `ddgs`! Use `pip install ddgs` instead.\n",
            "  with DDGS() as ddgs:\n"
          ]
        },
        {
          "output_type": "stream",
          "name": "stdout",
          "text": [
            "\u001b[32;1m\u001b[1;3mThought: The second search did not yield relevant information about IPL2025. I will try another search with a different query to confirm the winner of IPL2025.\n",
            "\n",
            "Action: duckduckgo_search\n",
            "Action Input: IPL 2025 final winner\u001b[0m\u001b[36;1m\u001b[1;3mThe official IPL website with live scores, match updates, team rankings, all the latest news, and videos . Follow your favorite teams and players! Feb 4, 2024 · Intense pulsed light (IPL) therapy, also known as a photo facial, is a way to improve the color and texture of your skin without surgery. It can undo some of the visible damage … Watch all IPL 2025 match highlights in one place. Relive the excitement with key moments and top plays from every match on IPLT20. Smart Grid is a seven-year plan to invest $1.2 billion in the modernization of AES Indiana’s electric grid. See the projects that are part of AES Indiana's Smart Grid plan with our new Smart Map. … The Indian Premier League (IPL) is a professional Twenty20 (T20) cricket league in India, organised by the Board of Control for Cricket in India (BCCI). [1] . Founded in 2007, it features ten city …\u001b[0m"
          ]
        },
        {
          "output_type": "stream",
          "name": "stderr",
          "text": [
            "/usr/local/lib/python3.11/dist-packages/langchain_community/utilities/duckduckgo_search.py:63: RuntimeWarning: This package (`duckduckgo_search`) has been renamed to `ddgs`! Use `pip install ddgs` instead.\n",
            "  with DDGS() as ddgs:\n"
          ]
        },
        {
          "output_type": "stream",
          "name": "stdout",
          "text": [
            "\u001b[32;1m\u001b[1;3mThought: The search results are not providing clear information about the IPL2025 winner. I will try a different approach by searching for recent news about the IPL2025 final.\n",
            "\n",
            "Action: duckduckgo_search\n",
            "Action Input: recent news IPL2025 final result\u001b[0m"
          ]
        },
        {
          "output_type": "stream",
          "name": "stderr",
          "text": [
            "/usr/local/lib/python3.11/dist-packages/langchain_community/utilities/duckduckgo_search.py:63: RuntimeWarning: This package (`duckduckgo_search`) has been renamed to `ddgs`! Use `pip install ddgs` instead.\n",
            "  with DDGS() as ddgs:\n"
          ]
        },
        {
          "output_type": "stream",
          "name": "stdout",
          "text": [
            "\u001b[36;1m\u001b[1;3mJun 4, 2025 · Royal Challengers Bengaluru won the IPL 2025 final by 6 runs against Punjab Kings. The close match went right down to the final over, making it a nail-biting finish. With this … Jun 4, 2025 · RCB broke their 18-year title drought by defeating Punjab Kings in the IPL 2025 final. Virat Kohli’s steady knock and a clinical bowling performance sealed the deal at the … Jun 4, 2025 · The long wait is over—Royal Challengers Bengaluru (RCB) are finally the IPL 2025 champions! RCB defeated Punjab Kings (PBKS) by a slim margin of 6 runs in a thrilling final … Jun 4, 2025 · As the final ball of the IPL 2025 decider sailed over the ropes for six, Royal Challengers Bengaluru had already sealed it — a 6-run win, a first-ever IPL title, and a … Jun 3, 2025 · RCB put an end to their 18-year wait! Shashank's top edge gets him a boundary! Kohli wins IPL Trophy! RCB become Champions. RCB fans, pinch yourselves! This isn’t a …\u001b[0m\u001b[32;1m\u001b[1;3mThought: I now have consistent information that Royal Challengers Bengaluru (RCB) won the IPL2025 season. Multiple sources confirm that RCB defeated Punjab Kings in the final.\n",
            "\n",
            "Final Answer: Royal Challengers Bengaluru (RCB) won the IPL2025 season by defeating Punjab Kings in the final. This was RCB's first IPL title in 18 years, achieved with a 6-run victory in a thrilling match.\u001b[0m\n",
            "\n",
            "\u001b[1m> Finished chain.\u001b[0m\n",
            "Royal Challengers Bengaluru (RCB) won the IPL2025 season by defeating Punjab Kings in the final. This was RCB's first IPL title in 18 years, achieved with a 6-run victory in a thrilling match.\n"
          ]
        }
      ]
    },
    {
      "cell_type": "code",
      "source": [
        "response=agent_executor.invoke({'input':\"what is travelling cost for pune to nashik via all ways??\"})\n",
        "print(response['output'])"
      ],
      "metadata": {
        "colab": {
          "base_uri": "https://localhost:8080/"
        },
        "id": "d6j7doFb9zLU",
        "outputId": "716a6158-9858-4c1c-8dfb-ffebbdcb5a8a"
      },
      "execution_count": 38,
      "outputs": [
        {
          "output_type": "stream",
          "name": "stdout",
          "text": [
            "\n",
            "\n",
            "\u001b[1m> Entering new AgentExecutor chain...\u001b[0m\n",
            "\u001b[32;1m\u001b[1;3mTo answer this question, I need to gather information about the traveling costs from Pune to Nashik via different modes of transportation such as by road, train, and air.\n",
            "\n",
            "Action: duckduckgo_search\n",
            "Action Input: Pune to Nashik travel cost by road, train, bus\u001b[0m"
          ]
        },
        {
          "output_type": "stream",
          "name": "stderr",
          "text": [
            "/usr/local/lib/python3.11/dist-packages/langchain_community/utilities/duckduckgo_search.py:63: RuntimeWarning: This package (`duckduckgo_search`) has been renamed to `ddgs`! Use `pip install ddgs` instead.\n",
            "  with DDGS() as ddgs:\n"
          ]
        },
        {
          "output_type": "stream",
          "name": "stdout",
          "text": [
            "\u001b[36;1m\u001b[1;3mPune (Marathi: Puṇē, pronounced [ˈpuɳe] ⓘ POO-nay), previously spelled in English as Poona (the official name until 1978), [15][16] is a city in the state of Maharashtra in the Deccan … 2 days ago · Pune, city, west-central Maharashtra state, western India, at the junction of the Mula and Mutha rivers. Called “Queen of the Deccan,” Pune is the cultural capital of the Maratha … See most popular tourist places to visit in Pune, top things to do, shopping and nightlife in Pune, find entry timings, fees about various attractions in Pune, Maharashtra Education, the arts and music are staples of life in the culture-rich city of Pune. The Pataleshwar Cave Temple, dating to the eighth century and dedicated to the god of the underworld, is a … Jun 28, 2025 · An easy trip from Mumbai, Pune has historic structures, lively food and nightlife scenes, easy access to nature and much more.\u001b[0m\u001b[32;1m\u001b[1;3mThought: The search results did not provide specific information about the traveling costs from Pune to Nashik. I need to refine my search query to get more relevant results.\n",
            "\n",
            "Action: duckduckgo_search\n",
            "Action Input: Pune to Nashik distance and travel cost by road train bus\u001b[0m\u001b[36;1m\u001b[1;3mNo good DuckDuckGo Search Result was found\u001b[0m"
          ]
        },
        {
          "output_type": "stream",
          "name": "stderr",
          "text": [
            "/usr/local/lib/python3.11/dist-packages/langchain_community/utilities/duckduckgo_search.py:63: RuntimeWarning: This package (`duckduckgo_search`) has been renamed to `ddgs`! Use `pip install ddgs` instead.\n",
            "  with DDGS() as ddgs:\n"
          ]
        },
        {
          "output_type": "stream",
          "name": "stdout",
          "text": [
            "\u001b[32;1m\u001b[1;3mIt seems like the search results are not providing the specific information we need. Let's try another approach.\n",
            "\n",
            "Thought: I will try to search for the distance and travel cost from Pune to Nashik by road, train, and bus separately.\n",
            "\n",
            "Action: duckduckgo_search\n",
            "Action Input: Pune to Nashik distance and road travel cost\u001b[0m\u001b[36;1m\u001b[1;3mNo good DuckDuckGo Search Result was found\u001b[0m"
          ]
        },
        {
          "output_type": "stream",
          "name": "stderr",
          "text": [
            "/usr/local/lib/python3.11/dist-packages/langchain_community/utilities/duckduckgo_search.py:63: RuntimeWarning: This package (`duckduckgo_search`) has been renamed to `ddgs`! Use `pip install ddgs` instead.\n",
            "  with DDGS() as ddgs:\n"
          ]
        },
        {
          "output_type": "stream",
          "name": "stdout",
          "text": [
            "\u001b[32;1m\u001b[1;3mIt seems like the search results are not providing the specific information we need. Let's try another approach.\n",
            "\n",
            "Action: duckduckgo_search\n",
            "Action Input: Pune to Nashik by train fare and schedule\u001b[0m\u001b[36;1m\u001b[1;3mPune (Marathi: Puṇē, pronounced [ˈpuɳe] ⓘ POO-nay), previously spelled in English as Poona (the official name until 1978), [15][16] is a city in the state of Maharashtra in the Deccan … 2 days ago · Pune, city, west-central Maharashtra state, western India, at the junction of the Mula and Mutha rivers. Called “Queen of the Deccan,” Pune is the cultural capital of the Maratha … See most popular tourist places to visit in Pune, top things to do, shopping and nightlife in Pune, find entry timings, fees about various attractions in Pune, Maharashtra Education, the arts and music are staples of life in the culture-rich city of Pune. The Pataleshwar Cave Temple, dating to the eighth century and dedicated to the god of the underworld, is a … Jun 28, 2025 · An easy trip from Mumbai, Pune has historic structures, lively food and nightlife scenes, easy access to nature and much more.\u001b[0m"
          ]
        },
        {
          "output_type": "stream",
          "name": "stderr",
          "text": [
            "/usr/local/lib/python3.11/dist-packages/langchain_community/utilities/duckduckgo_search.py:63: RuntimeWarning: This package (`duckduckgo_search`) has been renamed to `ddgs`! Use `pip install ddgs` instead.\n",
            "  with DDGS() as ddgs:\n"
          ]
        },
        {
          "output_type": "stream",
          "name": "stdout",
          "text": [
            "\u001b[32;1m\u001b[1;3mIt seems like the search results are not providing the specific information we need. Let's try another approach.\n",
            "\n",
            "Action: duckduckgo_search\n",
            "Action Input: Pune to Nashik bus fare\u001b[0m\u001b[36;1m\u001b[1;3mPune (Marathi: Puṇē, pronounced [ˈpuɳe] ⓘ POO-nay), previously spelled in English as Poona (the official name until 1978), [15][16] is a city in the state of Maharashtra in the Deccan … 2 days ago · Pune, city, west-central Maharashtra state, western India, at the junction of the Mula and Mutha rivers. Called “Queen of the Deccan,” Pune is the cultural capital of the Maratha … See most popular tourist places to visit in Pune, top things to do, shopping and nightlife in Pune, find entry timings, fees about various attractions in Pune, Maharashtra Education, the arts and music are staples of life in the culture-rich city of Pune. The Pataleshwar Cave Temple, dating to the eighth century and dedicated to the god of the underworld, is a … Jun 28, 2025 · An easy trip from Mumbai, Pune has historic structures, lively food and nightlife scenes, easy access to nature and much more.\u001b[0m"
          ]
        },
        {
          "output_type": "stream",
          "name": "stderr",
          "text": [
            "/usr/local/lib/python3.11/dist-packages/langchain_community/utilities/duckduckgo_search.py:63: RuntimeWarning: This package (`duckduckgo_search`) has been renamed to `ddgs`! Use `pip install ddgs` instead.\n",
            "  with DDGS() as ddgs:\n"
          ]
        },
        {
          "output_type": "stream",
          "name": "stdout",
          "text": [
            "\u001b[32;1m\u001b[1;3mIt seems like the search results are not providing the specific information we need. \n",
            "\n",
            "Thought: Since the search results are not providing the required information, I will try to search for the specific modes of transportation and their estimated costs.\n",
            "\n",
            "Action: duckduckgo_search\n",
            "Action Input: Pune to Nashik taxi fare\u001b[0m\u001b[36;1m\u001b[1;3mPune (Marathi: Puṇē, pronounced [ˈpuɳe] ⓘ POO-nay), previously spelled in English as Poona (the official name until 1978), [15][16] is a city in the state of Maharashtra in the Deccan plateau in … 2 days ago · Pune, city, west-central Maharashtra state, western India, at the junction of the Mula and Mutha rivers. Called “Queen of the Deccan,” Pune is the cultural capital of the Maratha … See most popular tourist places to visit in Pune, top things to do, shopping and nightlife in Pune, find entry timings, fees about various attractions in Pune, Maharashtra Education, the arts and music are staples of life in the culture-rich city of Pune. The Pataleshwar Cave Temple, dating to the eighth century and dedicated to the god of the underworld, is a … Jun 28, 2025 · An easy trip from Mumbai, Pune has historic structures, lively food and nightlife scenes, easy access to nature and much more.\u001b[0m"
          ]
        },
        {
          "output_type": "stream",
          "name": "stderr",
          "text": [
            "/usr/local/lib/python3.11/dist-packages/langchain_community/utilities/duckduckgo_search.py:63: RuntimeWarning: This package (`duckduckgo_search`) has been renamed to `ddgs`! Use `pip install ddgs` instead.\n",
            "  with DDGS() as ddgs:\n"
          ]
        },
        {
          "output_type": "stream",
          "name": "stdout",
          "text": [
            "\u001b[32;1m\u001b[1;3mIt seems like the search results are not providing the specific information we need. \n",
            "\n",
            "Thought: Since the search results are not providing the required information, I will try to search for the specific modes of transportation and their estimated costs.\n",
            "\n",
            "Action: duckduckgo_search\n",
            "Action Input: Pune to Nashik train ticket price\u001b[0m\u001b[36;1m\u001b[1;3mPune (Marathi: Puṇē, pronounced [ˈpuɳe] ⓘ POO-nay), previously spelled in English as Poona (the official name until 1978), [15][16] is a city in the state of Maharashtra in the Deccan plateau in Western India. It is the administrative headquarters of the Pune district, and of Pune division. 2 days ago · Pune, city, west-central Maharashtra state, western India, at the junction of the Mula and Mutha rivers. Called “Queen of the Deccan,” Pune is the cultural capital of the Maratha peoples. The city first gained importance as the capital of the Bhonsle Marathas in the 17th century. See most popular tourist places to visit in Pune, top things to do, shopping and nightlife in Pune, find entry timings, fees about various attractions in Pune, Maharashtra Education, the arts and music are staples of life in the culture-rich city of Pune. The Pataleshwar Cave Temple, dating to the eighth century and dedicated to the god of the underworld, is a marvel of rock-cut architecture. For a panoramic city view, climb to temple-topped Parvati Hill. Jun 28, 2025 · An easy trip from Mumbai, Pune has historic structures, lively food and nightlife scenes, easy access to nature and much more.\u001b[0m"
          ]
        },
        {
          "output_type": "stream",
          "name": "stderr",
          "text": [
            "/usr/local/lib/python3.11/dist-packages/langchain_community/utilities/duckduckgo_search.py:63: RuntimeWarning: This package (`duckduckgo_search`) has been renamed to `ddgs`! Use `pip install ddgs` instead.\n",
            "  with DDGS() as ddgs:\n"
          ]
        },
        {
          "output_type": "stream",
          "name": "stdout",
          "text": [
            "\u001b[32;1m\u001b[1;3mIt seems like the search results are not providing the specific information we need. \n",
            "\n",
            "Thought: Since the search results are not providing the required information, I will try to search for the specific modes of transportation and their estimated costs.\n",
            "\n",
            "Action: duckduckgo_search\n",
            "Action Input: distance and travel time from Pune to Nashik\u001b[0m\u001b[36;1m\u001b[1;3mWith the distance calculator distance.to you can easily determine distances between world-wide locations. Simply enter any desired location into the search function and you will get the shortest … Le célèbre calculateur de distance permet de déterminer la distance en kilomètres qui sépare deux lieux et coordonnées. Il fournit aussi un planificateur d'itinéraire, des cartes interactives et des … Com o calculador de distâncias distance.to, poderás determinar facilmente distâncias entre locais no mundo inteiro. Basta inserir o local desejado na função de pesquisa e obterás a distância mais … ¿Quieres saber cuál es el punto medio entre dos ciudades o lugares, o dónde podéis quedar a mitad de camino? Distance.to calcula el punto medio geográfico entre dos ubicaciones y muestra el … Vuoi sapere dove si trova il punto intermedio tra due città o luoghi, o dove potete incontrarvi a metà strada? Distance.to calcola il punto medio geografico tra due località e mostra il centro della tua …\u001b[0m"
          ]
        },
        {
          "output_type": "stream",
          "name": "stderr",
          "text": [
            "/usr/local/lib/python3.11/dist-packages/langchain_community/utilities/duckduckgo_search.py:63: RuntimeWarning: This package (`duckduckgo_search`) has been renamed to `ddgs`! Use `pip install ddgs` instead.\n",
            "  with DDGS() as ddgs:\n"
          ]
        },
        {
          "output_type": "stream",
          "name": "stdout",
          "text": [
            "\u001b[32;1m\u001b[1;3mIt seems like I wasn't able to get a direct answer to your question. However, I can provide some general information about traveling from Pune to Nashik.\n",
            "\n",
            "The distance between Pune and Nashik is approximately 210-220 kilometers.\n",
            "\n",
            "For traveling by road:\n",
            "- The travel time by car or taxi is around 4-5 hours depending on traffic conditions.\n",
            "- The estimated fuel cost for a car can range from ₹1,500 to ₹2,500 (depending on the type of vehicle and fuel efficiency).\n",
            "- Tolls and parking fees are additional costs.\n",
            "\n",
            "For traveling by train:\n",
            "- The train journey takes around 5-6 hours.\n",
            "- Train ticket prices vary depending on the class and type of train. A rough estimate for a one-way ticket is:\n",
            "  - ₹100-₹500 for a second-class seat\n",
            "  - ₹500-₹1,500 for a first-class seat or a sleeper berth\n",
            "\n",
            "For traveling by bus:\n",
            "- The bus journey takes around 5-6 hours.\n",
            "- Bus ticket prices vary depending on the type of bus and operator. A rough estimate for a one-way ticket is:\n",
            "  - ₹200-₹500 for a standard bus seat\n",
            "  - ₹500-₹1,000 for a luxury bus seat\n",
            "\n",
            "Please note that these estimates are approximate and may vary depending on various factors.\n",
            "\n",
            "Thought: I now know the final answer\n",
            "\n",
            "Final Answer: \n",
            "The traveling costs from Pune to Nashik are approximately:\n",
            "- By road: ₹1,500-₹2,500 (fuel cost) + tolls and parking fees\n",
            "- By train: ₹100-₹1,500 (depending on class and type of train)\n",
            "- By bus: ₹200-₹1,000 (depending on type of bus and operator)\n",
            "\n",
            "Travel times:\n",
            "- By road: 4-5 hours\n",
            "- By train: 5-6 hours\n",
            "- By bus: 5-6 hours\u001b[0m\n",
            "\n",
            "\u001b[1m> Finished chain.\u001b[0m\n",
            "The traveling costs from Pune to Nashik are approximately:\n",
            "- By road: ₹1,500-₹2,500 (fuel cost) + tolls and parking fees\n",
            "- By train: ₹100-₹1,500 (depending on class and type of train)\n",
            "- By bus: ₹200-₹1,000 (depending on type of bus and operator)\n",
            "\n",
            "Travel times:\n",
            "- By road: 4-5 hours\n",
            "- By train: 5-6 hours\n",
            "- By bus: 5-6 hours\n"
          ]
        }
      ]
    },
    {
      "cell_type": "code",
      "source": [
        "response=agent_executor.invoke({'input':\"can you book ticket for 15 August to travel from pune to nashik via bus??\"})\n",
        "print(response['output'])"
      ],
      "metadata": {
        "colab": {
          "base_uri": "https://localhost:8080/"
        },
        "id": "XWGh1IcRADeA",
        "outputId": "3aea8907-cab3-4f2c-dcde-13b855cdacb9"
      },
      "execution_count": 39,
      "outputs": [
        {
          "output_type": "stream",
          "name": "stdout",
          "text": [
            "\n",
            "\n",
            "\u001b[1m> Entering new AgentExecutor chain...\u001b[0m\n",
            "\u001b[32;1m\u001b[1;3mThought: I need to find a way to book a bus ticket from Pune to Nashik for 15 August. However, I'm just a text-based AI and do not have direct access to bus booking systems. I'll need to search for bus operators or booking websites that offer this route.\n",
            "\n",
            "Action: duckduckgo_search\n",
            "Action Input: \"bus ticket booking pune to nashik august 15\"\u001b[0m\u001b[36;1m\u001b[1;3mFind information about Seattle Bus Station in Seattle, WA. Get exact bus stop location, phone numbers, hours of operation, and bus schedules from Greyhound. Bus Travel Summary: Seattle. Bus schedule: To check upcoming Greyhound departures to Seattle, enter your origin, destination (Seattle), and travel date in the search bar above. … Looking for Greyhound Bus Tickets from Seattle to Yakima? Your search ends here! We've got all the info you need to plan your bus journey. The trip from Seattle to Yakima can be as quick as … Plan your bus trip from Boise to Seattle with Greyhound The trip from Boise to Seattle takes as short as 19 hours 20 minutes and could cost as little as $176.99.The first bus departs at 8:15 … Find information about Seattle (University of Washington) in Seattle, WA. Get exact bus stop location, phone numbers, hours of operation, and bus schedules from Greyhound.\u001b[0m"
          ]
        },
        {
          "output_type": "stream",
          "name": "stderr",
          "text": [
            "/usr/local/lib/python3.11/dist-packages/langchain_community/utilities/duckduckgo_search.py:63: RuntimeWarning: This package (`duckduckgo_search`) has been renamed to `ddgs`! Use `pip install ddgs` instead.\n",
            "  with DDGS() as ddgs:\n"
          ]
        },
        {
          "output_type": "stream",
          "name": "stdout",
          "text": [
            "\u001b[32;1m\u001b[1;3mThought: The search results don't seem to provide specific information about booking a bus ticket from Pune to Nashik on August 15. I'll try a more specific search query to find relevant bus operators or booking websites.\n",
            "\n",
            "Action: duckduckgo_search\n",
            "Action Input: \"pune to nashik bus booking august 15\"\u001b[0m\u001b[36;1m\u001b[1;3mNo good DuckDuckGo Search Result was found\u001b[0m"
          ]
        },
        {
          "output_type": "stream",
          "name": "stderr",
          "text": [
            "/usr/local/lib/python3.11/dist-packages/langchain_community/utilities/duckduckgo_search.py:63: RuntimeWarning: This package (`duckduckgo_search`) has been renamed to `ddgs`! Use `pip install ddgs` instead.\n",
            "  with DDGS() as ddgs:\n"
          ]
        },
        {
          "output_type": "stream",
          "name": "stdout",
          "text": [
            "\u001b[32;1m\u001b[1;3mThought: It seems that the search results are not providing the specific information I need. I'll try another search query with a popular bus booking website or a specific bus operator that might offer this route.\n",
            "\n",
            "Action: duckduckgo_search\n",
            "Action Input: \"redbus pune to nashik bus august15\"\u001b[0m"
          ]
        },
        {
          "output_type": "stream",
          "name": "stderr",
          "text": [
            "/usr/local/lib/python3.11/dist-packages/langchain_community/utilities/duckduckgo_search.py:63: RuntimeWarning: This package (`duckduckgo_search`) has been renamed to `ddgs`! Use `pip install ddgs` instead.\n",
            "  with DDGS() as ddgs:\n"
          ]
        },
        {
          "output_type": "stream",
          "name": "stdout",
          "text": [
            "\u001b[36;1m\u001b[1;3mNo good DuckDuckGo Search Result was found\u001b[0m\u001b[32;1m\u001b[1;3mThought: I understand that the previous searches didn't yield the desired results. I'll try one more search with a specific bus operator or a popular bus booking website that might offer this route.\n",
            "\n",
            "Action: duckduckgo_search\n",
            "Action Input: \"MSRTC Pune to Nashik bus schedule August 15\"\u001b[0m"
          ]
        },
        {
          "output_type": "stream",
          "name": "stderr",
          "text": [
            "/usr/local/lib/python3.11/dist-packages/langchain_community/utilities/duckduckgo_search.py:63: RuntimeWarning: This package (`duckduckgo_search`) has been renamed to `ddgs`! Use `pip install ddgs` instead.\n",
            "  with DDGS() as ddgs:\n"
          ]
        },
        {
          "output_type": "stream",
          "name": "stdout",
          "text": [
            "\u001b[36;1m\u001b[1;3mMar 9, 2025 · The Nashik Bus Stand Timetable provides detailed schedules for various buses operating from the Nashik MSRTC (Maharashtra State Road Transport Corporation) Bus Stand, … 17 hours ago · Book Pune to Nashik Bus tickets online booking - use code NEWUSERSPECIAL and get upto 200 Rs OFF at MakeMytrip.com. 65+ available buses, 42+ Operators from Pune to … Dec 23, 2024 · This guide provides a detailed timetable for buses departing from the Nashik New CBS (Central Bus Stand) and Thakkar Bazar bus stand. Whether you’re heading to Pune, Dhule, … Dec 25, 2024 · Travelling from Nashik to Pune is now more convenient and comfortable with the MSRTC’s Shivai bus service. Here we provides a Nashik to Pune Shivai bus timetable, ticket … Jul 10, 2025 · To book a Pune to Nashik bus ticket, simply explore available bus types and schedules tailored to your convenience. You will find various Pune to Nashik bus timings …\u001b[0m\u001b[32;1m\u001b[1;3mThought: I now have some useful information about bus services from Pune to Nashik. Although I couldn't find a specific schedule for August 15, I found that MSRTC (Maharashtra State Road Transport Corporation) operates buses on this route. I also found that MakeMyTrip.com offers bus ticket booking services for this route.\n",
            "\n",
            "Thought: I now know the final answer\n",
            "\n",
            "Final Answer: While I couldn't book a ticket directly, I found that you can book a bus ticket from Pune to Nashik on August 15 through MakeMyTrip.com or check MSRTC's website for availability. I recommend checking the bus schedules and booking tickets in advance to ensure availability. You can visit MakeMyTrip.com or MSRTC's official website for more information.\u001b[0m\n",
            "\n",
            "\u001b[1m> Finished chain.\u001b[0m\n",
            "While I couldn't book a ticket directly, I found that you can book a bus ticket from Pune to Nashik on August 15 through MakeMyTrip.com or check MSRTC's website for availability. I recommend checking the bus schedules and booking tickets in advance to ensure availability. You can visit MakeMyTrip.com or MSRTC's official website for more information.\n"
          ]
        }
      ]
    },
    {
      "cell_type": "markdown",
      "source": [
        "# **Weather AI Agent**"
      ],
      "metadata": {
        "id": "GrOkKSW2CtFp"
      }
    },
    {
      "cell_type": "code",
      "source": [
        "@tool\n",
        "def get_weather_data(city: str) -> str:\n",
        "  \"\"\"\n",
        "  This function fetches the current weather data for a given city\n",
        "  \"\"\"\n",
        "  url = f'https://api.weatherstack.com/current?access_key=4d1d8ae207a8c845a52df8a67bf3623e&query={city}'\n",
        "\n",
        "  response = requests.get(url)\n",
        "\n",
        "  return response.json()"
      ],
      "metadata": {
        "id": "tlntfK0oA4G_"
      },
      "execution_count": 47,
      "outputs": []
    },
    {
      "cell_type": "code",
      "source": [
        "# Step 3: Create the ReAct agent manually with the pulled prompt\n",
        "agent = create_react_agent(\n",
        "    llm=llm,\n",
        "    tools=[search_tool, get_weather_data],\n",
        "    prompt=prompt\n",
        ")"
      ],
      "metadata": {
        "id": "-FW8wdyIC3lg"
      },
      "execution_count": 48,
      "outputs": []
    },
    {
      "cell_type": "code",
      "source": [
        "# Step 4: Wrap it with AgentExecutor\n",
        "agent_executor = AgentExecutor(\n",
        "    agent=agent,\n",
        "    tools=[search_tool, get_weather_data],\n",
        "    verbose=True\n",
        ")"
      ],
      "metadata": {
        "id": "LYQJYDnlC8jW"
      },
      "execution_count": 49,
      "outputs": []
    },
    {
      "cell_type": "code",
      "source": [
        "# Step 5: Invoke\n",
        "response = agent_executor.invoke({\"input\": \"Find the capital of Maharashtra, then find it's current weather condition\"})\n",
        "print(response)"
      ],
      "metadata": {
        "colab": {
          "base_uri": "https://localhost:8080/"
        },
        "id": "ajJNFbYgDA5a",
        "outputId": "1707bf11-b658-4ff7-af88-6de5b2dfbbf7"
      },
      "execution_count": 50,
      "outputs": [
        {
          "output_type": "stream",
          "name": "stdout",
          "text": [
            "\n",
            "\n",
            "\u001b[1m> Entering new AgentExecutor chain...\u001b[0m\n",
            "\u001b[32;1m\u001b[1;3mTo find the capital of Maharashtra and then its current weather condition, I first need to identify the capital of Maharashtra. Since this is a factual piece of information that doesn't require real-time data, I can use a search query for this. Once I have the capital, I can proceed to find its current weather condition using the get_weather_data function.\n",
            "\n",
            "Action: duckduckgo_search\n",
            "Action Input: \"capital of Maharashtra\"\u001b[0m\u001b[36;1m\u001b[1;3mNo good DuckDuckGo Search Result was found\u001b[0m"
          ]
        },
        {
          "output_type": "stream",
          "name": "stderr",
          "text": [
            "/usr/local/lib/python3.11/dist-packages/langchain_community/utilities/duckduckgo_search.py:63: RuntimeWarning: This package (`duckduckgo_search`) has been renamed to `ddgs`! Use `pip install ddgs` instead.\n",
            "  with DDGS() as ddgs:\n"
          ]
        },
        {
          "output_type": "stream",
          "name": "stdout",
          "text": [
            "\u001b[32;1m\u001b[1;3mIt seems the search didn't yield a direct result. I'll try a more specific search query to find the capital of Maharashtra.\n",
            "\n",
            "Action: duckduckgo_search\n",
            "Action Input: \"what is the capital of Maharashtra\"\u001b[0m\u001b[36;1m\u001b[1;3mFeb 4, 2025 · The Capital One Auto Finance loan payoff address is typically provided on the borrower's monthly statement or can be obtained by contacting Capital One's customer service. … May 29, 2025 · For Capital One Auto Finance, the lien holder address is typically PO Box 390907, Minneapolis, MN 55439. However, for the most accurate and up-to-date contact information, … Mar 28, 2025 · For Capital One Auto Finance, the lien holder address is typically PO Box 390907, Minneapolis, MN 55439. However, for the most accurate and up-to-date contact information, … Jun 27, 2019 · Human capital isn't just beneficial to the person involved and the company they work for; countries stand to gain as well. A creative and productive workforce contributes more to the … Sep 23, 2023 · You can call toll free, seven days a week twenty-four hours a day. The number is 1-877-442-3764 for normal support, or 1-888-464-0727 for Capital One 360.\u001b[0m"
          ]
        },
        {
          "output_type": "stream",
          "name": "stderr",
          "text": [
            "/usr/local/lib/python3.11/dist-packages/langchain_community/utilities/duckduckgo_search.py:63: RuntimeWarning: This package (`duckduckgo_search`) has been renamed to `ddgs`! Use `pip install ddgs` instead.\n",
            "  with DDGS() as ddgs:\n"
          ]
        },
        {
          "output_type": "stream",
          "name": "stdout",
          "text": [
            "\u001b[32;1m\u001b[1;3mIt seems the search results are not relevant to finding the capital of Maharashtra. I'll try an even more specific search query.\n",
            "\n",
            "Action: duckduckgo_search\n",
            "Action Input: \"Maharashtra state capital\"\u001b[0m\u001b[36;1m\u001b[1;3m5 days ago · Maharashtra, state of India, occupying a substantial portion of the Deccan plateau in the western peninsular part of the subcontinent. Its capital city is Mumbai, … 6 days ago · Mumbai (also known as Bombay, the official name until 1995) is the capital city of the Indian state of Maharashtra. Mumbai lies on the Konkan coast on the west coast … Mar 7, 2025 · Mumbai is the capital city of Maharashtra and the financial capital of India, known for its economic importance, bustling lifestyle, and iconic landmarks. It serves as … Jul 1, 2025 · Meanwhile, Mumbai, the capital of Maharashtra, is the center for finance and entertainment in India. It’s the home of Bollywood and the country’s largest stock … Jul 3, 2025 · Western States in the India States and Capitals List. Maharashtra – Mumbai, the financial capital of India, serves as the state capital. Gujarat – Gandhinagar, named after …\u001b[0m"
          ]
        },
        {
          "output_type": "stream",
          "name": "stderr",
          "text": [
            "/usr/local/lib/python3.11/dist-packages/langchain_community/utilities/duckduckgo_search.py:63: RuntimeWarning: This package (`duckduckgo_search`) has been renamed to `ddgs`! Use `pip install ddgs` instead.\n",
            "  with DDGS() as ddgs:\n"
          ]
        },
        {
          "output_type": "stream",
          "name": "stdout",
          "text": [
            "\u001b[32;1m\u001b[1;3mI now have the information that Mumbai is the capital of Maharashtra.\n",
            "\n",
            "Thought: Now that I know Mumbai is the capital of Maharashtra, I can proceed to find its current weather condition using the get_weather_data function.\n",
            "\n",
            "Action: get_weather_data\n",
            "Action Input: Mumbai\u001b[0m\u001b[33;1m\u001b[1;3m{'request': {'type': 'City', 'query': 'Mumbai, India', 'language': 'en', 'unit': 'm'}, 'location': {'name': 'Mumbai', 'country': 'India', 'region': 'Maharashtra', 'lat': '18.975', 'lon': '72.826', 'timezone_id': 'Asia/Kolkata', 'localtime': '2025-08-03 23:16', 'localtime_epoch': 1754262960, 'utc_offset': '5.50'}, 'current': {'observation_time': '05:46 PM', 'temperature': 28, 'weather_code': 143, 'weather_icons': ['https://cdn.worldweatheronline.com/images/wsymbols01_png_64/wsymbol_0006_mist.png'], 'weather_descriptions': ['Mist'], 'astro': {'sunrise': '06:16 AM', 'sunset': '07:13 PM', 'moonrise': '02:20 PM', 'moonset': '12:41 AM', 'moon_phase': 'Waxing Gibbous', 'moon_illumination': 64}, 'air_quality': {'co': '244.2', 'no2': '11.655', 'o3': '51', 'so2': '11.47', 'pm2_5': '28.305', 'pm10': '61.79', 'us-epa-index': '2', 'gb-defra-index': '2'}, 'wind_speed': 13, 'wind_degree': 206, 'wind_dir': 'SSW', 'pressure': 1008, 'precip': 0.2, 'humidity': 84, 'cloudcover': 75, 'feelslike': 33, 'uv_index': 0, 'visibility': 3, 'is_day': 'no'}}\u001b[0m\u001b[32;1m\u001b[1;3mI now know the final answer.\n",
            "\n",
            "Final Answer: The capital of Maharashtra is Mumbai, and its current weather condition is Mist with a temperature of 28 degrees Celsius.\u001b[0m\n",
            "\n",
            "\u001b[1m> Finished chain.\u001b[0m\n",
            "{'input': \"Find the capital of Maharashtra, then find it's current weather condition\", 'output': 'The capital of Maharashtra is Mumbai, and its current weather condition is Mist with a temperature of 28 degrees Celsius.'}\n"
          ]
        }
      ]
    },
    {
      "cell_type": "code",
      "source": [
        "response['output']"
      ],
      "metadata": {
        "colab": {
          "base_uri": "https://localhost:8080/",
          "height": 36
        },
        "id": "ZVMSrQcnDDWV",
        "outputId": "552e78e5-97e2-4322-f988-8e08cdb4f5e3"
      },
      "execution_count": 51,
      "outputs": [
        {
          "output_type": "execute_result",
          "data": {
            "text/plain": [
              "'The capital of Maharashtra is Mumbai, and its current weather condition is Mist with a temperature of 28 degrees Celsius.'"
            ],
            "application/vnd.google.colaboratory.intrinsic+json": {
              "type": "string"
            }
          },
          "metadata": {},
          "execution_count": 51
        }
      ]
    },
    {
      "cell_type": "code",
      "source": [],
      "metadata": {
        "id": "GD2YNHQNDH4I"
      },
      "execution_count": null,
      "outputs": []
    }
  ]
}